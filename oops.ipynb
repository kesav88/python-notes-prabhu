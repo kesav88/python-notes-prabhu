{
 "cells": [
  {
   "cell_type": "code",
   "execution_count": 5,
   "metadata": {},
   "outputs": [
    {
     "name": "stdout",
     "output_type": "stream",
     "text": [
      "30\n",
      "200\n"
     ]
    }
   ],
   "source": [
    "a = 10\n",
    "b = 20\n",
    "\n",
    "def adder(a, b):\n",
    "    # print(a + b)\n",
    "    return a + b\n",
    "\n",
    "print(adder(a, b))\n",
    "\n",
    "x, y = 10, 20\n",
    "print(x*y)"
   ]
  },
  {
   "cell_type": "code",
   "execution_count": 8,
   "metadata": {},
   "outputs": [],
   "source": [
    "class Car:\n",
    "    color = 'red'\n",
    "    wheels = 4\n",
    "\n",
    "    def start(self):\n",
    "        print('started')\n",
    "\n",
    "    def stop(self):\n",
    "        print('stopped')\n",
    "\n",
    "nano = Car()\n",
    "tesla = Car()"
   ]
  },
  {
   "cell_type": "code",
   "execution_count": 19,
   "metadata": {},
   "outputs": [
    {
     "name": "stdout",
     "output_type": "stream",
     "text": [
      "car color : Green\n",
      "nano color : blue\n",
      "tesla color : Green\n",
      "2258193721968 2258190200304 2258193721968\n",
      "\n",
      "2258193721968 2258190200304 2258193721968\n",
      "car color : Green\n",
      "nano color : blue\n",
      "tesla color : Green\n",
      "\n",
      "2258193721968 2258190200304 2258193721968\n",
      "car color : Green\n",
      "nano color : blue\n",
      "tesla color : Green\n"
     ]
    }
   ],
   "source": [
    "print('car color :', Car.color)\n",
    "print('nano color :', nano.color)\n",
    "print('tesla color :', tesla.color)\n",
    "print(id(Car.color), id(nano.color), id(tesla.color))\n",
    "print()\n",
    "Car.color = 'Green'\n",
    "print(id(Car.color), id(nano.color), id(tesla.color))\n",
    "print('car color :', Car.color)\n",
    "print('nano color :', nano.color)\n",
    "print('tesla color :', tesla.color)\n",
    "print()\n",
    "nano.color = 'blue'\n",
    "print(id(Car.color), id(nano.color), id(tesla.color))\n",
    "print('car color :', Car.color)\n",
    "print('nano color :', nano.color)\n",
    "print('tesla color :', tesla.color)\n"
   ]
  },
  {
   "cell_type": "code",
   "execution_count": 11,
   "metadata": {},
   "outputs": [],
   "source": [
    "nano = Car()\n",
    "tesla = Car()"
   ]
  },
  {
   "cell_type": "code",
   "execution_count": 13,
   "metadata": {},
   "outputs": [
    {
     "name": "stdout",
     "output_type": "stream",
     "text": [
      "started\n"
     ]
    }
   ],
   "source": [
    "nano.start()"
   ]
  },
  {
   "cell_type": "code",
   "execution_count": 15,
   "metadata": {},
   "outputs": [
    {
     "name": "stdout",
     "output_type": "stream",
     "text": [
      "<class 'function'>\n"
     ]
    }
   ],
   "source": [
    "def test():\n",
    "    pass\n",
    "\n",
    "print(type(test))"
   ]
  },
  {
   "cell_type": "code",
   "execution_count": 1,
   "metadata": {},
   "outputs": [],
   "source": [
    "class Emp:\n",
    "    name = ''\n",
    "    age = 0\n",
    "    address = ''\n",
    "    job_role = ''\n",
    "\n",
    "emp1 = Emp()\n",
    "emp2 = Emp()\n",
    "emp3 = Emp()\n",
    "emp4 = Emp()"
   ]
  },
  {
   "cell_type": "code",
   "execution_count": 7,
   "metadata": {},
   "outputs": [
    {
     "data": {
      "text/plain": [
       "['__module__',\n",
       " 'name',\n",
       " 'age',\n",
       " 'address',\n",
       " 'job_role',\n",
       " '__dict__',\n",
       " '__weakref__',\n",
       " '__doc__',\n",
       " '__new__',\n",
       " '__repr__',\n",
       " '__hash__',\n",
       " '__str__',\n",
       " '__getattribute__',\n",
       " '__setattr__',\n",
       " '__delattr__',\n",
       " '__lt__',\n",
       " '__le__',\n",
       " '__eq__',\n",
       " '__ne__',\n",
       " '__gt__',\n",
       " '__ge__',\n",
       " '__init__',\n",
       " '__reduce_ex__',\n",
       " '__reduce__',\n",
       " '__subclasshook__',\n",
       " '__init_subclass__',\n",
       " '__format__',\n",
       " '__sizeof__',\n",
       " '__dir__',\n",
       " '__class__']"
      ]
     },
     "execution_count": 7,
     "metadata": {},
     "output_type": "execute_result"
    }
   ],
   "source": [
    "emp1.__dir__()"
   ]
  },
  {
   "cell_type": "code",
   "execution_count": null,
   "metadata": {},
   "outputs": [],
   "source": [
    "Emp."
   ]
  }
 ],
 "metadata": {
  "kernelspec": {
   "display_name": "Python 3.10.6 64-bit",
   "language": "python",
   "name": "python3"
  },
  "language_info": {
   "codemirror_mode": {
    "name": "ipython",
    "version": 3
   },
   "file_extension": ".py",
   "mimetype": "text/x-python",
   "name": "python",
   "nbconvert_exporter": "python",
   "pygments_lexer": "ipython3",
   "version": "3.10.6"
  },
  "orig_nbformat": 4,
  "vscode": {
   "interpreter": {
    "hash": "cb746cae21d8eece361e3d69b5b88e7465dccc6b14f8d94d4bf000eb937e2588"
   }
  }
 },
 "nbformat": 4,
 "nbformat_minor": 2
}
