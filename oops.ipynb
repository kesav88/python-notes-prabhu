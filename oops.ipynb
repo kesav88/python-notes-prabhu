{
 "cells": [
  {
   "cell_type": "code",
   "execution_count": 5,
   "metadata": {},
   "outputs": [
    {
     "name": "stdout",
     "output_type": "stream",
     "text": [
      "30\n",
      "200\n"
     ]
    }
   ],
   "source": [
    "a = 10\n",
    "b = 20\n",
    "\n",
    "def adder(a, b):\n",
    "    # print(a + b)\n",
    "    return a + b\n",
    "\n",
    "print(adder(a, b))\n",
    "\n",
    "x, y = 10, 20\n",
    "print(x*y)"
   ]
  },
  {
   "cell_type": "code",
   "execution_count": 2,
   "metadata": {},
   "outputs": [],
   "source": [
    "class Car:\n",
    "    color = 'red'\n",
    "    wheels = 4\n",
    "\n",
    "    def start(self):\n",
    "        print('started')\n",
    "\n",
    "    def stop(self):\n",
    "        print('stopped')\n",
    "\n",
    "nano = Car()\n",
    "tesla = Car()"
   ]
  },
  {
   "cell_type": "code",
   "execution_count": 3,
   "metadata": {},
   "outputs": [
    {
     "name": "stdout",
     "output_type": "stream",
     "text": [
      "car color : red\n",
      "nano color : red\n",
      "tesla color : red\n",
      "2876641045872 2876641045872 2876641045872\n",
      "\n",
      "2876644567856 2876644567856 2876644567856\n",
      "car color : Green\n",
      "nano color : Green\n",
      "tesla color : Green\n",
      "\n",
      "2876644567856 2876641046000 2876644567856\n",
      "car color : Green\n",
      "nano color : blue\n",
      "tesla color : Green\n"
     ]
    }
   ],
   "source": [
    "print('car color :', Car.color)\n",
    "print('nano color :', nano.color)\n",
    "print('tesla color :', tesla.color)\n",
    "print(id(Car.color), id(nano.color), id(tesla.color))\n",
    "print()\n",
    "Car.color = 'Green'\n",
    "print(id(Car.color), id(nano.color), id(tesla.color))\n",
    "print('car color :', Car.color)\n",
    "print('nano color :', nano.color)\n",
    "print('tesla color :', tesla.color)\n",
    "print()\n",
    "nano.color = 'blue'\n",
    "print(id(Car.color), id(nano.color), id(tesla.color))\n",
    "print('car color :', Car.color)\n",
    "print('nano color :', nano.color)\n",
    "print('tesla color :', tesla.color)\n"
   ]
  },
  {
   "cell_type": "code",
   "execution_count": 11,
   "metadata": {},
   "outputs": [],
   "source": [
    "nano = Car()\n",
    "tesla = Car()"
   ]
  },
  {
   "cell_type": "code",
   "execution_count": 13,
   "metadata": {},
   "outputs": [
    {
     "name": "stdout",
     "output_type": "stream",
     "text": [
      "started\n"
     ]
    }
   ],
   "source": [
    "nano.start()"
   ]
  },
  {
   "cell_type": "code",
   "execution_count": 15,
   "metadata": {},
   "outputs": [
    {
     "name": "stdout",
     "output_type": "stream",
     "text": [
      "<class 'function'>\n"
     ]
    }
   ],
   "source": [
    "def test():\n",
    "    pass\n",
    "\n",
    "print(type(test))"
   ]
  },
  {
   "cell_type": "code",
   "execution_count": 7,
   "metadata": {},
   "outputs": [],
   "source": [
    "class Emp:\n",
    "    name = ''\n",
    "    age = 0\n",
    "    address = ''\n",
    "    job_role = ''\n",
    "\n",
    "emp1 = Emp()\n",
    "emp2 = Emp()\n",
    "emp3 = Emp()\n",
    "emp4 = Emp()"
   ]
  },
  {
   "cell_type": "code",
   "execution_count": 8,
   "metadata": {},
   "outputs": [
    {
     "data": {
      "text/plain": [
       "['__module__',\n",
       " 'name',\n",
       " 'age',\n",
       " 'address',\n",
       " 'job_role',\n",
       " '__dict__',\n",
       " '__weakref__',\n",
       " '__doc__',\n",
       " '__new__',\n",
       " '__repr__',\n",
       " '__hash__',\n",
       " '__str__',\n",
       " '__getattribute__',\n",
       " '__setattr__',\n",
       " '__delattr__',\n",
       " '__lt__',\n",
       " '__le__',\n",
       " '__eq__',\n",
       " '__ne__',\n",
       " '__gt__',\n",
       " '__ge__',\n",
       " '__init__',\n",
       " '__reduce_ex__',\n",
       " '__reduce__',\n",
       " '__subclasshook__',\n",
       " '__init_subclass__',\n",
       " '__format__',\n",
       " '__sizeof__',\n",
       " '__dir__',\n",
       " '__class__']"
      ]
     },
     "execution_count": 8,
     "metadata": {},
     "output_type": "execute_result"
    }
   ],
   "source": [
    "emp1.__dir__()"
   ]
  },
  {
   "cell_type": "code",
   "execution_count": 4,
   "metadata": {},
   "outputs": [],
   "source": [
    "class Car:\n",
    "    color = 'red'\n",
    "    wheels = 4\n",
    "\n",
    "    def start(self):\n",
    "        print('started')\n",
    "\n",
    "    def stop(self):\n",
    "        print('stopped')\n",
    "\n",
    "nano = Car()\n",
    "tesla = Car()"
   ]
  },
  {
   "cell_type": "code",
   "execution_count": 11,
   "metadata": {},
   "outputs": [
    {
     "name": "stdout",
     "output_type": "stream",
     "text": [
      "['__module__', 'color', 'wheels', 'start', 'stop', '__dict__', '__weakref__', '__doc__', '__new__', '__repr__', '__hash__', '__str__', '__getattribute__', '__setattr__', '__delattr__', '__lt__', '__le__', '__eq__', '__ne__', '__gt__', '__ge__', '__init__', '__reduce_ex__', '__reduce__', '__subclasshook__', '__init_subclass__', '__format__', '__sizeof__', '__dir__', '__class__']\n",
      "['__module__', 'color', 'wheels', 'start', 'stop', '__dict__', '__weakref__', '__doc__', '__new__', '__repr__', '__hash__', '__str__', '__getattribute__', '__setattr__', '__delattr__', '__lt__', '__le__', '__eq__', '__ne__', '__gt__', '__ge__', '__init__', '__reduce_ex__', '__reduce__', '__subclasshook__', '__init_subclass__', '__format__', '__sizeof__', '__dir__', '__class__']\n"
     ]
    }
   ],
   "source": [
    "print(nano.__dir__())\n",
    "print(tesla.__dir__())"
   ]
  },
  {
   "cell_type": "code",
   "execution_count": 12,
   "metadata": {},
   "outputs": [],
   "source": [
    "tesla.ads = True"
   ]
  },
  {
   "cell_type": "code",
   "execution_count": 16,
   "metadata": {},
   "outputs": [
    {
     "name": "stdout",
     "output_type": "stream",
     "text": [
      "['__module__', 'color', 'wheels', 'start', 'stop', '__dict__', '__weakref__', '__doc__', '__new__', '__repr__', '__hash__', '__str__', '__getattribute__', '__setattr__', '__delattr__', '__lt__', '__le__', '__eq__', '__ne__', '__gt__', '__ge__', '__init__', '__reduce_ex__', '__reduce__', '__subclasshook__', '__init_subclass__', '__format__', '__sizeof__', '__dir__', '__class__']\n",
      "['ads', '__module__', 'color', 'wheels', 'start', 'stop', '__dict__', '__weakref__', '__doc__', '__new__', '__repr__', '__hash__', '__str__', '__getattribute__', '__setattr__', '__delattr__', '__lt__', '__le__', '__eq__', '__ne__', '__gt__', '__ge__', '__init__', '__reduce_ex__', '__reduce__', '__subclasshook__', '__init_subclass__', '__format__', '__sizeof__', '__dir__', '__class__']\n"
     ]
    }
   ],
   "source": [
    "print(nano.__dir__())\n",
    "print(tesla.__dir__())"
   ]
  },
  {
   "cell_type": "code",
   "execution_count": 33,
   "metadata": {},
   "outputs": [],
   "source": [
    "class Circle:\n",
    "\n",
    "    def __init__(self, r, pi) -> None:\n",
    "        self.r = r\n",
    "        self.pi = pi\n",
    "\n",
    "    def area(self):\n",
    "        print( self.pi * (self.r ** 2))"
   ]
  },
  {
   "cell_type": "code",
   "execution_count": 34,
   "metadata": {},
   "outputs": [
    {
     "name": "stdout",
     "output_type": "stream",
     "text": [
      "78.5\n",
      "314.5\n"
     ]
    }
   ],
   "source": [
    "a = Circle(5, 3.14)\n",
    "a.area()\n",
    "\n",
    "b = Circle(10, 3.145)\n",
    "b.area()"
   ]
  },
  {
   "cell_type": "code",
   "execution_count": 26,
   "metadata": {},
   "outputs": [],
   "source": [
    "class Car:\n",
    "    wheels = 4\n",
    "\n",
    "    def __init__(self, c):\n",
    "        self.color = c\n",
    "\n",
    "    def start(self):\n",
    "        print(\"started\")\n",
    "\n",
    "    def stop(self):\n",
    "        print('stopped')\n",
    "\n",
    "nano = Car(\"red\")\n",
    "tesla = Car(\"Green\")"
   ]
  },
  {
   "cell_type": "code",
   "execution_count": 28,
   "metadata": {},
   "outputs": [
    {
     "data": {
      "text/plain": [
       "'Green'"
      ]
     },
     "execution_count": 28,
     "metadata": {},
     "output_type": "execute_result"
    }
   ],
   "source": [
    "tesla.color"
   ]
  },
  {
   "cell_type": "code",
   "execution_count": 5,
   "metadata": {},
   "outputs": [
    {
     "name": "stdout",
     "output_type": "stream",
     "text": [
      "red\n",
      "Green\n"
     ]
    }
   ],
   "source": [
    "class Car:\n",
    "    wheels = 4\n",
    "\n",
    "    def __init__(self, c):\n",
    "        self.color = c\n",
    "\n",
    "    def start(self):\n",
    "        print(\"started\")\n",
    "\n",
    "    def stop(self):\n",
    "        print('stopped')\n",
    "\n",
    "\n",
    "nano = Car(\"red\")\n",
    "tesla = Car(\"Green\")\n",
    "\n",
    "print(nano.color)\n",
    "print(tesla.color)"
   ]
  },
  {
   "cell_type": "code",
   "execution_count": 11,
   "metadata": {},
   "outputs": [
    {
     "name": "stdout",
     "output_type": "stream",
     "text": [
      "Area of rect is 20 \n",
      "Area of rect is 150 \n",
      "Area of rect is 24 \n"
     ]
    }
   ],
   "source": [
    "class Rect:\n",
    "    def __init__(self, l, b):\n",
    "        self.l = l\n",
    "        self.b = b\n",
    "\n",
    "    def area(self):\n",
    "        print(f\"Area of rect is {self.l * self.b} \")\n",
    "\n",
    "\n",
    "r1 = Rect(5, 4)\n",
    "r1.area()\n",
    "r2 = Rect(10, 15)\n",
    "r2.area()\n",
    "r3 = Rect(3, 8)\n",
    "Rect.area(r3)"
   ]
  },
  {
   "cell_type": "code",
   "execution_count": 2,
   "metadata": {},
   "outputs": [
    {
     "name": "stdout",
     "output_type": "stream",
     "text": [
      "5\n",
      "6\n",
      "7\n",
      "8\n"
     ]
    }
   ],
   "source": [
    "class Temp:\n",
    "    def __init__(self, v) :\n",
    "        self.val = v\n",
    "\n",
    "    def adder(self):\n",
    "        self.val = self.val + 1\n",
    "\n",
    "    @classmethod\n",
    "    def sub(cls):\n",
    "        print('executed')\n",
    "\n",
    "obj = Temp(5)\n",
    "print(obj.val)\n",
    "obj.adder()\n",
    "print(obj.val)\n",
    "obj.adder()\n",
    "print(obj.val)\n",
    "obj.adder()\n",
    "print(obj.val)"
   ]
  },
  {
   "cell_type": "code",
   "execution_count": 4,
   "metadata": {},
   "outputs": [
    {
     "name": "stdout",
     "output_type": "stream",
     "text": [
      "executed\n",
      "executed\n"
     ]
    }
   ],
   "source": [
    "obj.sub()\n",
    "Temp.sub()"
   ]
  },
  {
   "cell_type": "code",
   "execution_count": 25,
   "metadata": {},
   "outputs": [
    {
     "name": "stdout",
     "output_type": "stream",
     "text": [
      "10 10\n",
      "50\n",
      "20 10\n"
     ]
    }
   ],
   "source": [
    "# def double(x):\n",
    "#     return x * 2\n",
    "\n",
    "class Temp:\n",
    "    x = 50\n",
    "\n",
    "class Math:\n",
    "    a = 10\n",
    "    b = 10\n",
    "\n",
    "    def increment(self):\n",
    "        self.a += 1\n",
    "\n",
    "    @classmethod\n",
    "    def decrement(cls):\n",
    "        cls.b -= 1\n",
    "\n",
    "    @staticmethod\n",
    "    def double(x):\n",
    "        return x * 2\n",
    "\n",
    "\n",
    "print(Math.a, Math.b)\n",
    "# obj = Math()\n",
    "# obj.increment()\n",
    "\n",
    "# print(Math.a, Math.b)\n",
    "# print(obj.a, obj.b)\n",
    "\n",
    "# obj.decrement()\n",
    "# print(Math.a, Math.b)\n",
    "# print(obj.a, obj.b)\n",
    "\n",
    "# Math.decrement()\n",
    "# print(Math.a, Math.b)\n",
    "# print(obj.a, obj.b)\n",
    "\n",
    "# Math.decrement()\n",
    "# print(Math.a, Math.b)\n",
    "\n",
    "Math.a = Math.double(Math.a)\n",
    "print(Math.a, Math.b)"
   ]
  },
  {
   "cell_type": "code",
   "execution_count": 18,
   "metadata": {},
   "outputs": [
    {
     "data": {
      "text/plain": [
       "5"
      ]
     },
     "execution_count": 18,
     "metadata": {},
     "output_type": "execute_result"
    }
   ],
   "source": []
  },
  {
   "cell_type": "code",
   "execution_count": null,
   "metadata": {},
   "outputs": [],
   "source": [
    "# it the amout of time increased with increase in input."
   ]
  },
  {
   "cell_type": "code",
   "execution_count": 62,
   "metadata": {},
   "outputs": [],
   "source": [
    "x = [-1, 5, 0, 3, -7, 0, -11, 4, 0, -2] * 10000000"
   ]
  },
  {
   "cell_type": "code",
   "execution_count": 63,
   "metadata": {},
   "outputs": [],
   "source": [
    "if sorted(x):\n",
    "    pass"
   ]
  },
  {
   "cell_type": "code",
   "execution_count": 64,
   "metadata": {},
   "outputs": [],
   "source": [
    "temp = {\"-\":[], '0':[], '+':[]}\n",
    "\n",
    "for i in x:\n",
    "    if i < 0:\n",
    "        temp['-'].append(i)\n",
    "    elif i > 0:\n",
    "        temp['+'].append(i)\n",
    "    else:\n",
    "        temp['0'].append(i)\n",
    "\n",
    "res = []\n",
    "\n",
    "for i in temp.values():\n",
    "    res = res + i\n"
   ]
  },
  {
   "cell_type": "code",
   "execution_count": 65,
   "metadata": {},
   "outputs": [],
   "source": [
    "s = cur = 0\n",
    "e = len(x) - 1\n",
    "\n",
    "while cur < e:\n",
    "    if x[cur] < 0:\n",
    "        x[s], x[cur] = x[cur], x[s]\n",
    "        cur += 1\n",
    "        s += 1\n",
    "    elif x[cur] > 0:\n",
    "        x[e], x[cur] = x[cur], x[e]\n",
    "        cur += 1\n",
    "        e -= 1\n",
    "    else:\n",
    "        cur += 1\n"
   ]
  },
  {
   "cell_type": "code",
   "execution_count": 2,
   "metadata": {},
   "outputs": [
    {
     "data": {
      "text/plain": [
       "20"
      ]
     },
     "execution_count": 2,
     "metadata": {},
     "output_type": "execute_result"
    }
   ],
   "source": [
    "class A:\n",
    "    x = 10\n",
    "    y = 20\n",
    "\n",
    "class B:\n",
    "    x = 10\n",
    "    y = 10\n",
    "    m = 100\n",
    "    n = 200\n",
    "\n",
    "\n",
    "a = A()\n",
    "a.y"
   ]
  },
  {
   "cell_type": "code",
   "execution_count": 17,
   "metadata": {},
   "outputs": [],
   "source": [
    "class Animal:\n",
    "    legs = 4\n",
    "    tail = True\n",
    "\n",
    "    def __init__(self):\n",
    "        pass\n",
    "\n",
    "    def test(self):\n",
    "        print('parent')\n",
    "\n",
    "class Cow(Animal):\n",
    "    tail = False\n",
    "    color = \"white\"\n",
    "    def __init__(self):\n",
    "        super().__init__()\n",
    "        pass\n",
    "\n",
    "    def test(self):\n",
    "        super().test()\n",
    "        print(super().tail)\n",
    "        print('child')\n"
   ]
  },
  {
   "cell_type": "code",
   "execution_count": 18,
   "metadata": {},
   "outputs": [
    {
     "name": "stdout",
     "output_type": "stream",
     "text": [
      "parent\n",
      "True\n",
      "child\n"
     ]
    }
   ],
   "source": [
    "c = Cow()\n",
    "c.test()"
   ]
  },
  {
   "cell_type": "markdown",
   "metadata": {},
   "source": [
    "### Single Level Inheritance"
   ]
  },
  {
   "cell_type": "code",
   "execution_count": null,
   "metadata": {},
   "outputs": [],
   "source": [
    "\n",
    "class Car:\n",
    "    wheels = 4\n",
    "\n",
    "class Tesla(Car):\n",
    "    color = 'blue'\n",
    "    model = 'X'"
   ]
  },
  {
   "cell_type": "markdown",
   "metadata": {},
   "source": [
    "### Multi level Inheritace"
   ]
  },
  {
   "cell_type": "code",
   "execution_count": 21,
   "metadata": {},
   "outputs": [
    {
     "data": {
      "text/plain": [
       "4"
      ]
     },
     "execution_count": 21,
     "metadata": {},
     "output_type": "execute_result"
    }
   ],
   "source": [
    "class Vehicle:\n",
    "    fuel = 'oil'\n",
    "\n",
    "class Car(Vehicle):\n",
    "    wheels = 4\n",
    "\n",
    "class XUV(Car):\n",
    "    speed = 100\n",
    "\n",
    "\n",
    "x = XUV()\n",
    "x.wheels"
   ]
  },
  {
   "cell_type": "markdown",
   "metadata": {},
   "source": [
    "### Multiple Inheritance"
   ]
  },
  {
   "cell_type": "code",
   "execution_count": null,
   "metadata": {},
   "outputs": [],
   "source": [
    "class Animal:\n",
    "    legs = 4\n",
    "\n",
    "class Tiger:\n",
    "    tail = True\n",
    "\n",
    "class Cat(Animal, Tiger):\n",
    "    color = 'white'\n",
    "\n",
    "\n",
    "c = Cat()"
   ]
  },
  {
   "cell_type": "markdown",
   "metadata": {},
   "source": [
    "### hierarchy Inheritance"
   ]
  },
  {
   "cell_type": "code",
   "execution_count": 24,
   "metadata": {},
   "outputs": [
    {
     "data": {
      "text/plain": [
       "'white'"
      ]
     },
     "execution_count": 24,
     "metadata": {},
     "output_type": "execute_result"
    }
   ],
   "source": [
    "class Car:\n",
    "    wheels = 4\n",
    "\n",
    "class Tesla(Car):\n",
    "    color = 'red'\n",
    "\n",
    "class Tata(Car):\n",
    "    color = 'white'\n",
    "\n",
    "class TataTelsa(Tata, Tesla):\n",
    "    ads = 'True'\n",
    "\n",
    "tl = Tesla()\n",
    "tt = Tata()\n",
    "\n",
    "tt.color"
   ]
  },
  {
   "cell_type": "code",
   "execution_count": 9,
   "metadata": {},
   "outputs": [
    {
     "name": "stdout",
     "output_type": "stream",
     "text": [
      "10\n",
      "100\n"
     ]
    }
   ],
   "source": [
    "def add(a, b):\n",
    "    return a + b\n",
    "\n",
    "def add(a, b, c):\n",
    "    return a+ b + c\n",
    "\n",
    "def add(a, b, c, d):\n",
    "    return a+ b + c + d\n",
    "\n",
    "# print(add(10, 30))\n",
    "print(add(1, 2, 3, 4))\n",
    "print(add(10, 20, 30, 40))"
   ]
  },
  {
   "cell_type": "code",
   "execution_count": 10,
   "metadata": {},
   "outputs": [
    {
     "name": "stdout",
     "output_type": "stream",
     "text": [
      "1\n",
      "3\n",
      "6\n",
      "10\n",
      "0\n"
     ]
    }
   ],
   "source": [
    "def add(a=0, b=0, c=0, d=0):\n",
    "        return a + b + c + d\n",
    "\n",
    "print(add(1))\n",
    "print(add(1, 2))\n",
    "print(add(1, 2, 3))\n",
    "print(add(1, 2, 3, 4))\n",
    "print(add())"
   ]
  },
  {
   "cell_type": "code",
   "execution_count": 11,
   "metadata": {},
   "outputs": [
    {
     "name": "stdout",
     "output_type": "stream",
     "text": [
      "0\n",
      "1\n",
      "3\n",
      "6\n",
      "10\n",
      "15\n",
      "75\n"
     ]
    }
   ],
   "source": [
    "def add(*vals):\n",
    "    res = 0\n",
    "\n",
    "    for i in vals:\n",
    "        res += i\n",
    "    return res\n",
    "\n",
    "print(add())\n",
    "print(add(1))\n",
    "print(add(1, 2))\n",
    "print(add(1, 2, 3))\n",
    "print(add(1, 2, 3, 4))\n",
    "print(add(1, 2, 3, 4, 5))\n",
    "print(add(1, 2, 3, 4, 5, 10, 20, 30))"
   ]
  },
  {
   "cell_type": "code",
   "execution_count": 15,
   "metadata": {},
   "outputs": [
    {
     "name": "stdout",
     "output_type": "stream",
     "text": [
      "1 2\n",
      "(1, 2)\n",
      "(1, 2, 3)\n",
      "[1, 2, 3]\n"
     ]
    }
   ],
   "source": [
    "t = (1, 2)\n",
    "\n",
    "a, b = t\n",
    "\n",
    "print(a, b)\n",
    "\n",
    "x = (a, b)\n",
    "print(x)\n",
    "\n",
    "l = [1, 2, 3]\n",
    "\n",
    "m = tuple(l)\n",
    "print(m)\n",
    "\n",
    "n = [*m]\n",
    "\n",
    "print(l)"
   ]
  },
  {
   "cell_type": "code",
   "execution_count": 16,
   "metadata": {},
   "outputs": [
    {
     "name": "stdout",
     "output_type": "stream",
     "text": [
      "['M', 'S', 'y', 's']\n"
     ]
    }
   ],
   "source": [
    "# * -> immutable data --> str, tuple\n",
    "\n",
    "s = \"MSys\"\n",
    "\n",
    "res = [*s]\n",
    "print(res)"
   ]
  },
  {
   "cell_type": "code",
   "execution_count": 17,
   "metadata": {},
   "outputs": [],
   "source": [
    "def add(a, b):\n",
    "    return a + b\n",
    "\n",
    "def add(x, y, z):\n",
    "    return x + y + z"
   ]
  },
  {
   "cell_type": "code",
   "execution_count": 25,
   "metadata": {},
   "outputs": [
    {
     "ename": "RuntimeError",
     "evalue": "super(): no arguments",
     "output_type": "error",
     "traceback": [
      "\u001b[1;31m---------------------------------------------------------------------------\u001b[0m",
      "\u001b[1;31mRuntimeError\u001b[0m                              Traceback (most recent call last)",
      "\u001b[1;32md:\\python\\oops.ipynb Cell 45\u001b[0m in \u001b[0;36m<cell line: 6>\u001b[1;34m()\u001b[0m\n\u001b[0;32m      <a href='vscode-notebook-cell:/d%3A/python/oops.ipynb#X63sZmlsZQ%3D%3D?line=1'>2</a>\u001b[0m     \u001b[39mdef\u001b[39;00m \u001b[39ma\u001b[39m(\u001b[39mself\u001b[39m):\n\u001b[0;32m      <a href='vscode-notebook-cell:/d%3A/python/oops.ipynb#X63sZmlsZQ%3D%3D?line=2'>3</a>\u001b[0m         \u001b[39mprint\u001b[39m(\u001b[39m\"\u001b[39m\u001b[39ma in class A\u001b[39m\u001b[39m\"\u001b[39m)\n\u001b[1;32m----> <a href='vscode-notebook-cell:/d%3A/python/oops.ipynb#X63sZmlsZQ%3D%3D?line=5'>6</a>\u001b[0m \u001b[39mclass\u001b[39;00m \u001b[39mB\u001b[39;00m(A):\n\u001b[0;32m      <a href='vscode-notebook-cell:/d%3A/python/oops.ipynb#X63sZmlsZQ%3D%3D?line=6'>7</a>\u001b[0m     x \u001b[39m=\u001b[39m \u001b[39msuper\u001b[39m()\u001b[39m.\u001b[39ma()\n\u001b[0;32m      <a href='vscode-notebook-cell:/d%3A/python/oops.ipynb#X63sZmlsZQ%3D%3D?line=8'>9</a>\u001b[0m     \u001b[39mdef\u001b[39;00m \u001b[39ma\u001b[39m(\u001b[39mself\u001b[39m):\n",
      "\u001b[1;32md:\\python\\oops.ipynb Cell 45\u001b[0m in \u001b[0;36mB\u001b[1;34m()\u001b[0m\n\u001b[0;32m      <a href='vscode-notebook-cell:/d%3A/python/oops.ipynb#X63sZmlsZQ%3D%3D?line=5'>6</a>\u001b[0m \u001b[39mclass\u001b[39;00m \u001b[39mB\u001b[39;00m(A):\n\u001b[1;32m----> <a href='vscode-notebook-cell:/d%3A/python/oops.ipynb#X63sZmlsZQ%3D%3D?line=6'>7</a>\u001b[0m     x \u001b[39m=\u001b[39m \u001b[39msuper\u001b[39;49m()\u001b[39m.\u001b[39ma()\n\u001b[0;32m      <a href='vscode-notebook-cell:/d%3A/python/oops.ipynb#X63sZmlsZQ%3D%3D?line=8'>9</a>\u001b[0m     \u001b[39mdef\u001b[39;00m \u001b[39ma\u001b[39m(\u001b[39mself\u001b[39m):\n\u001b[0;32m     <a href='vscode-notebook-cell:/d%3A/python/oops.ipynb#X63sZmlsZQ%3D%3D?line=9'>10</a>\u001b[0m         \u001b[39mprint\u001b[39m(\u001b[39m\"\u001b[39m\u001b[39ma in class A\u001b[39m\u001b[39m\"\u001b[39m)\n",
      "\u001b[1;31mRuntimeError\u001b[0m: super(): no arguments"
     ]
    }
   ],
   "source": [
    "class A:\n",
    "    def a(self):\n",
    "        print(\"a in class A\")\n",
    "\n",
    "\n",
    "class B(A):\n",
    "    def a(self):\n",
    "        print(\"a in class A\")\n",
    "\n",
    "    def b(self):\n",
    "        super().a()\n",
    "        print(\"b in class B\")\n",
    "\n",
    "bo = B()\n",
    "\n",
    "bo.x()"
   ]
  },
  {
   "cell_type": "code",
   "execution_count": 31,
   "metadata": {},
   "outputs": [
    {
     "name": "stdout",
     "output_type": "stream",
     "text": [
      "ref of Test: <class '__main__.Test'>\n",
      "val of cls : <class '__main__.Test'>\n",
      "it is a static method\n"
     ]
    }
   ],
   "source": [
    "class Test:\n",
    "    def obj_meth(self):\n",
    "        print(f\"va of self : {self}\")\n",
    "\n",
    "    @classmethod\n",
    "    def class_meth(cls):\n",
    "        print(f\"val of cls : {cls}\")\n",
    "\n",
    "    @staticmethod\n",
    "    def static_meth():\n",
    "        print(\"it is a static method\")\n",
    "\n",
    "\n",
    "obj = Test()\n",
    "\n",
    "print(f\"ref of Test: {Test}\")\n",
    "# print(f\"ref of obj: {obj}\")\n",
    "\n",
    "# obj.obj_meth()\n",
    "obj.class_meth()\n",
    "obj.static_meth()\n"
   ]
  },
  {
   "cell_type": "code",
   "execution_count": 46,
   "metadata": {},
   "outputs": [
    {
     "name": "stdout",
     "output_type": "stream",
     "text": [
      "Branc Name: Bangalore\n",
      "PIN Code: 560076\n",
      "Account no: 110012\n",
      "First Name: Sheshadri\n",
      "Last Name: S\n",
      "Ammount: 1000\n",
      "\n"
     ]
    }
   ],
   "source": [
    "from bank import CitiBank, prabhu\n",
    "\n",
    "sheshadri = CitiBank(\"Sheshadri\", \"S\", 1000)\n",
    "\n",
    "sheshadri.details()\n"
   ]
  },
  {
   "cell_type": "code",
   "execution_count": 36,
   "metadata": {},
   "outputs": [
    {
     "data": {
      "text/plain": [
       "110003"
      ]
     },
     "execution_count": 36,
     "metadata": {},
     "output_type": "execute_result"
    }
   ],
   "source": [
    "sheshadri.base_number"
   ]
  },
  {
   "cell_type": "code",
   "execution_count": 37,
   "metadata": {},
   "outputs": [
    {
     "data": {
      "text/plain": [
       "110008"
      ]
     },
     "execution_count": 37,
     "metadata": {},
     "output_type": "execute_result"
    }
   ],
   "source": [
    "sheshadri.increment()\n",
    "sheshadri.increment()\n",
    "sheshadri.increment()\n",
    "sheshadri.increment()\n",
    "sheshadri.increment()\n"
   ]
  },
  {
   "cell_type": "code",
   "execution_count": 39,
   "metadata": {},
   "outputs": [
    {
     "name": "stdout",
     "output_type": "stream",
     "text": [
      "Branc Name: Bangalore\n",
      "PIN Code: 560076\n",
      "Account no: 110009\n",
      "First Name: fn\n",
      "Last Name: ln\n",
      "Ammount: 0\n",
      "\n"
     ]
    }
   ],
   "source": [
    "test = CitiBank('fn', 'ln')\n",
    "test.details()"
   ]
  },
  {
   "cell_type": "code",
   "execution_count": 48,
   "metadata": {},
   "outputs": [],
   "source": [
    "sheshadri.pin_code = 600094"
   ]
  },
  {
   "cell_type": "code",
   "execution_count": 49,
   "metadata": {},
   "outputs": [
    {
     "name": "stdout",
     "output_type": "stream",
     "text": [
      "Branc Name: Bangalore\n",
      "PIN Code: 600094\n",
      "Account no: 110012\n",
      "First Name: Sheshadri\n",
      "Last Name: S\n",
      "Ammount: 1000\n",
      "\n"
     ]
    }
   ],
   "source": [
    "sheshadri.details()"
   ]
  },
  {
   "cell_type": "code",
   "execution_count": 50,
   "metadata": {},
   "outputs": [
    {
     "name": "stdout",
     "output_type": "stream",
     "text": [
      "Branc Name: Bangalore\n",
      "PIN Code: 560076\n",
      "Account no: 110001\n",
      "First Name: Prabhu\n",
      "Last Name: P\n",
      "Ammount: 400\n",
      "\n"
     ]
    }
   ],
   "source": [
    "prabhu.details()"
   ]
  },
  {
   "cell_type": "code",
   "execution_count": 52,
   "metadata": {},
   "outputs": [],
   "source": [
    "from testdir import test"
   ]
  },
  {
   "cell_type": "code",
   "execution_count": 55,
   "metadata": {},
   "outputs": [
    {
     "ename": "AttributeError",
     "evalue": "'function' object has no attribute 'test'",
     "output_type": "error",
     "traceback": [
      "\u001b[1;31m---------------------------------------------------------------------------\u001b[0m",
      "\u001b[1;31mAttributeError\u001b[0m                            Traceback (most recent call last)",
      "\u001b[1;32md:\\python\\oops.ipynb Cell 55\u001b[0m in \u001b[0;36m<cell line: 1>\u001b[1;34m()\u001b[0m\n\u001b[1;32m----> <a href='vscode-notebook-cell:/d%3A/python/oops.ipynb#Y106sZmlsZQ%3D%3D?line=0'>1</a>\u001b[0m test\u001b[39m.\u001b[39;49mtest()\n",
      "\u001b[1;31mAttributeError\u001b[0m: 'function' object has no attribute 'test'"
     ]
    }
   ],
   "source": [
    "test.test()"
   ]
  },
  {
   "cell_type": "code",
   "execution_count": 54,
   "metadata": {},
   "outputs": [
    {
     "ename": "NameError",
     "evalue": "name 'test_data' is not defined",
     "output_type": "error",
     "traceback": [
      "\u001b[1;31m---------------------------------------------------------------------------\u001b[0m",
      "\u001b[1;31mNameError\u001b[0m                                 Traceback (most recent call last)",
      "\u001b[1;32md:\\python\\oops.ipynb Cell 56\u001b[0m in \u001b[0;36m<cell line: 1>\u001b[1;34m()\u001b[0m\n\u001b[1;32m----> <a href='vscode-notebook-cell:/d%3A/python/oops.ipynb#Y110sZmlsZQ%3D%3D?line=0'>1</a>\u001b[0m test_data\n",
      "\u001b[1;31mNameError\u001b[0m: name 'test_data' is not defined"
     ]
    }
   ],
   "source": [
    "test_data"
   ]
  },
  {
   "cell_type": "code",
   "execution_count": 68,
   "metadata": {},
   "outputs": [
    {
     "name": "stdout",
     "output_type": "stream",
     "text": [
      "Branc Name: Bangalore\n",
      "PIN Code: 560076\n",
      "Account no: 110001\n",
      "First Name: Prabhu\n",
      "Last Name: P\n",
      "Ammount: 500\n",
      "\n"
     ]
    }
   ],
   "source": [
    "class CitiBank:\n",
    "    __branch_name = 'Bangalore'\n",
    "    __pin_code = 560076\n",
    "    __base_number = 110000\n",
    "\n",
    "    def __init__(self, fn, ln, amount=0):\n",
    "        self.first_name = fn\n",
    "        self.last_name = ln\n",
    "        self.__balance = amount\n",
    "        self.__accout_no = CitiBank.__increment()\n",
    "\n",
    "    @classmethod\n",
    "    def __increment(cls):\n",
    "        cls.__base_number = cls.__base_number + 1\n",
    "        return cls.__base_number\n",
    "\n",
    "    def details(self):\n",
    "        print(f\"Branc Name: {self.__branch_name}\")\n",
    "        print(f\"PIN Code: {self.__pin_code}\")\n",
    "        print(f\"Account no: {self.__accout_no}\")\n",
    "        print(f\"First Name: {self.first_name}\")\n",
    "        print(f\"Last Name: {self.last_name}\")\n",
    "        print(f\"Ammount: {self.__balance}\")\n",
    "        print()\n",
    "\n",
    "    def deposite(self, amt):\n",
    "        self.balance = self.balance + amt\n",
    "        print(\"Successfully Deposited\")\n",
    "\n",
    "    def withdraw(self, amt):\n",
    "        if self.balance >= amt:\n",
    "            self.balance -= amt\n",
    "            print('Successfully withdrawn')\n",
    "        else:\n",
    "            print('you dont have sufficient bal')\n",
    "\n",
    "    def display(self):\n",
    "        print(f\"Curent Bal: {self.balance}\")\n",
    "\n",
    "\n",
    "prabhu = CitiBank(\"Prabhu\", 'P', 500)\n",
    "prabhu.details()\n",
    "\n"
   ]
  },
  {
   "cell_type": "code",
   "execution_count": 21,
   "metadata": {},
   "outputs": [
    {
     "name": "stdout",
     "output_type": "stream",
     "text": [
      "Some var is not defined\n"
     ]
    }
   ],
   "source": [
    "x = 1\n",
    "y = 2\n",
    "\n",
    "\n",
    "try:\n",
    "    print(x + y + z)\n",
    "    \n",
    "except TypeError:\n",
    "    print(\"both the numbers should be 'int'\")\n",
    "\n",
    "except NameError:\n",
    "    print('Some var is not defined')"
   ]
  },
  {
   "cell_type": "code",
   "execution_count": 13,
   "metadata": {},
   "outputs": [
    {
     "name": "stdout",
     "output_type": "stream",
     "text": [
      "0 1\n",
      "1 2\n",
      "2 3\n",
      "3 4\n",
      "4 5\n",
      "exceuted Successfully\n"
     ]
    }
   ],
   "source": [
    "x = [1, 2, 3, 4, 5]\n",
    "\n",
    "try:\n",
    "    for i in range(10):\n",
    "        print(i, x[i])\n",
    "except:\n",
    "    print(\"exceuted Successfully\")\n",
    "\n"
   ]
  },
  {
   "cell_type": "code",
   "execution_count": 4,
   "metadata": {},
   "outputs": [
    {
     "name": "stdout",
     "output_type": "stream",
     "text": [
      "even\n"
     ]
    }
   ],
   "source": [
    "n = 100\n",
    "\n",
    "if n % 2 == 0:\n",
    "    print(\"even\")\n",
    "else:\n",
    "    print(\"odd\")"
   ]
  },
  {
   "cell_type": "code",
   "execution_count": 28,
   "metadata": {},
   "outputs": [
    {
     "ename": "IndentationError",
     "evalue": "expected an indented block after 'for' statement on line 7 (3671703400.py, line 8)",
     "output_type": "error",
     "traceback": [
      "\u001b[1;36m  Input \u001b[1;32mIn [28]\u001b[1;36m\u001b[0m\n\u001b[1;33m    print(i)\u001b[0m\n\u001b[1;37m    ^\u001b[0m\n\u001b[1;31mIndentationError\u001b[0m\u001b[1;31m:\u001b[0m expected an indented block after 'for' statement on line 7\n"
     ]
    }
   ],
   "source": [
    "try:\n",
    "    10 / 0\n",
    "except ZeroDivisionError:\n",
    "    print(\"Number can't be devided by 0\")\n",
    "\n",
    "try:\n",
    "    for i in range(5):\n",
    "        print(i)\n",
    "except IndentationError:\n",
    "    print(\"error fixed\")"
   ]
  },
  {
   "cell_type": "code",
   "execution_count": 39,
   "metadata": {},
   "outputs": [
    {
     "name": "stdout",
     "output_type": "stream",
     "text": [
      "0\n",
      "Code Executed Successfully\n"
     ]
    }
   ],
   "source": [
    "x = [1, 2, 3, 4]\n",
    "\n",
    "try:\n",
    "    print(0)\n",
    "except IndexError:\n",
    "    print(\"We will get index error\")\n",
    "except NameError:\n",
    "    print(\"wrong var name\")\n",
    "except Exception:\n",
    "    print(\"handling Generic errors\")\n",
    "except:\n",
    "    print('this is the default exception')\n",
    "finally:\n",
    "    print(\"Code Executed Successfully\")\n",
    "\n"
   ]
  },
  {
   "cell_type": "code",
   "execution_count": 41,
   "metadata": {},
   "outputs": [
    {
     "name": "stdout",
     "output_type": "stream",
     "text": [
      "0\n",
      "1\n",
      "2\n",
      "3\n",
      "4\n",
      "excecuted successfully\n"
     ]
    }
   ],
   "source": [
    "i = 0\n",
    "\n",
    "while i < 5:\n",
    "    print(i)\n",
    "    i +=1\n",
    "else:\n",
    "    print(\"excecuted successfully\")\n"
   ]
  },
  {
   "cell_type": "code",
   "execution_count": 43,
   "metadata": {},
   "outputs": [
    {
     "name": "stdout",
     "output_type": "stream",
     "text": [
      "a\n",
      "b\n",
      "c\n",
      "completed\n"
     ]
    }
   ],
   "source": [
    "for i in \"abc\":\n",
    "    print(i)\n",
    "else:\n",
    "    print(\"completed\")"
   ]
  },
  {
   "cell_type": "code",
   "execution_count": 46,
   "metadata": {},
   "outputs": [
    {
     "name": "stdout",
     "output_type": "stream",
     "text": [
      "False\n",
      "False\n"
     ]
    }
   ],
   "source": [
    "x = 10\n",
    "y = 20\n",
    "\n",
    "if x > y:\n",
    "    print(True)\n",
    "else:\n",
    "    print(False)\n",
    "\n",
    "\n",
    "# TSB if condition else FSB\n",
    "print(True if x > y else False)\n"
   ]
  },
  {
   "cell_type": "code",
   "execution_count": 47,
   "metadata": {},
   "outputs": [
    {
     "name": "stdout",
     "output_type": "stream",
     "text": [
      "20\n"
     ]
    }
   ],
   "source": [
    "x = 10\n",
    "y = 20\n",
    "\n",
    "largest = x if x >= y else y\n",
    "\n",
    "print(largest)"
   ]
  },
  {
   "cell_type": "code",
   "execution_count": 51,
   "metadata": {},
   "outputs": [
    {
     "ename": "ValueError",
     "evalue": "Numbers can't be less than 0",
     "output_type": "error",
     "traceback": [
      "\u001b[1;31m---------------------------------------------------------------------------\u001b[0m",
      "\u001b[1;31mValueError\u001b[0m                                Traceback (most recent call last)",
      "\u001b[1;32md:\\python\\oops.ipynb Cell 67\u001b[0m in \u001b[0;36m<cell line: 4>\u001b[1;34m()\u001b[0m\n\u001b[0;32m      <a href='vscode-notebook-cell:/d%3A/python/oops.ipynb#Y123sZmlsZQ%3D%3D?line=1'>2</a>\u001b[0m y \u001b[39m=\u001b[39m \u001b[39m30\u001b[39m\n\u001b[0;32m      <a href='vscode-notebook-cell:/d%3A/python/oops.ipynb#Y123sZmlsZQ%3D%3D?line=3'>4</a>\u001b[0m \u001b[39mif\u001b[39;00m x \u001b[39m>\u001b[39m \u001b[39m0\u001b[39m \u001b[39mor\u001b[39;00m y \u001b[39m>\u001b[39m \u001b[39m0\u001b[39m:\n\u001b[1;32m----> <a href='vscode-notebook-cell:/d%3A/python/oops.ipynb#Y123sZmlsZQ%3D%3D?line=4'>5</a>\u001b[0m     \u001b[39mraise\u001b[39;00m \u001b[39mValueError\u001b[39;00m(\u001b[39m\"\u001b[39m\u001b[39mNumbers can\u001b[39m\u001b[39m'\u001b[39m\u001b[39mt be less than 0\u001b[39m\u001b[39m\"\u001b[39m)\n\u001b[0;32m      <a href='vscode-notebook-cell:/d%3A/python/oops.ipynb#Y123sZmlsZQ%3D%3D?line=6'>7</a>\u001b[0m mul \u001b[39m=\u001b[39m x \u001b[39m*\u001b[39m y\n\u001b[0;32m      <a href='vscode-notebook-cell:/d%3A/python/oops.ipynb#Y123sZmlsZQ%3D%3D?line=8'>9</a>\u001b[0m \u001b[39mprint\u001b[39m(mul)\n",
      "\u001b[1;31mValueError\u001b[0m: Numbers can't be less than 0"
     ]
    }
   ],
   "source": [
    "x = -10\n",
    "y = 30\n",
    "\n",
    "if x > 0 or y > 0:\n",
    "    raise ValueError(\"Numbers can't be less than 0\")\n",
    "\n",
    "mul = x * y\n",
    "\n",
    "print(mul)"
   ]
  },
  {
   "cell_type": "code",
   "execution_count": 54,
   "metadata": {},
   "outputs": [
    {
     "ename": "NameError",
     "evalue": "it will raise name error",
     "output_type": "error",
     "traceback": [
      "\u001b[1;31m---------------------------------------------------------------------------\u001b[0m",
      "\u001b[1;31mNameError\u001b[0m                                 Traceback (most recent call last)",
      "\u001b[1;32md:\\python\\oops.ipynb Cell 68\u001b[0m in \u001b[0;36m<cell line: 5>\u001b[1;34m()\u001b[0m\n\u001b[0;32m      <a href='vscode-notebook-cell:/d%3A/python/oops.ipynb#Y124sZmlsZQ%3D%3D?line=2'>3</a>\u001b[0m c \u001b[39m=\u001b[39m \u001b[39m30\u001b[39m\n\u001b[0;32m      <a href='vscode-notebook-cell:/d%3A/python/oops.ipynb#Y124sZmlsZQ%3D%3D?line=4'>5</a>\u001b[0m \u001b[39mif\u001b[39;00m a \u001b[39m>\u001b[39m\u001b[39m=\u001b[39m \u001b[39m25\u001b[39m \u001b[39mor\u001b[39;00m b \u001b[39m>\u001b[39m\u001b[39m=\u001b[39m \u001b[39m25\u001b[39m \u001b[39mor\u001b[39;00m c \u001b[39m>\u001b[39m\u001b[39m=\u001b[39m \u001b[39m25\u001b[39m:\n\u001b[1;32m----> <a href='vscode-notebook-cell:/d%3A/python/oops.ipynb#Y124sZmlsZQ%3D%3D?line=5'>6</a>\u001b[0m     \u001b[39mraise\u001b[39;00m \u001b[39mNameError\u001b[39;00m(\u001b[39m\"\u001b[39m\u001b[39mit will raise name error\u001b[39m\u001b[39m\"\u001b[39m)\n\u001b[0;32m      <a href='vscode-notebook-cell:/d%3A/python/oops.ipynb#Y124sZmlsZQ%3D%3D?line=7'>8</a>\u001b[0m \u001b[39mprint\u001b[39m(a \u001b[39m+\u001b[39m b \u001b[39m+\u001b[39m c)\n",
      "\u001b[1;31mNameError\u001b[0m: it will raise name error"
     ]
    }
   ],
   "source": [
    "a = 10\n",
    "b = 20\n",
    "c = 30\n",
    "\n",
    "if a >= 25 or b >= 25 or c >= 25:\n",
    "    raise NameError(\"it will raise name error\")\n",
    "\n",
    "print(a + b + c)"
   ]
  },
  {
   "cell_type": "code",
   "execution_count": 58,
   "metadata": {},
   "outputs": [
    {
     "name": "stdout",
     "output_type": "stream",
     "text": [
      "<class 'type'>\n"
     ]
    }
   ],
   "source": [
    "class TestError(Exception):\n",
    "    pass\n",
    "\n",
    "print(type(TestError))"
   ]
  },
  {
   "cell_type": "code",
   "execution_count": 60,
   "metadata": {},
   "outputs": [
    {
     "ename": "TestError",
     "evalue": "message",
     "output_type": "error",
     "traceback": [
      "\u001b[1;31m---------------------------------------------------------------------------\u001b[0m",
      "\u001b[1;31mTestError\u001b[0m                                 Traceback (most recent call last)",
      "\u001b[1;32md:\\python\\oops.ipynb Cell 70\u001b[0m in \u001b[0;36m<cell line: 4>\u001b[1;34m()\u001b[0m\n\u001b[0;32m      <a href='vscode-notebook-cell:/d%3A/python/oops.ipynb#Y126sZmlsZQ%3D%3D?line=1'>2</a>\u001b[0m y \u001b[39m=\u001b[39m \u001b[39m20\u001b[39m\n\u001b[0;32m      <a href='vscode-notebook-cell:/d%3A/python/oops.ipynb#Y126sZmlsZQ%3D%3D?line=3'>4</a>\u001b[0m \u001b[39mif\u001b[39;00m x \u001b[39m==\u001b[39m \u001b[39m0\u001b[39m \u001b[39mor\u001b[39;00m y \u001b[39m==\u001b[39m \u001b[39m0\u001b[39m:\n\u001b[1;32m----> <a href='vscode-notebook-cell:/d%3A/python/oops.ipynb#Y126sZmlsZQ%3D%3D?line=4'>5</a>\u001b[0m     \u001b[39mraise\u001b[39;00m TestError(\u001b[39m\"\u001b[39m\u001b[39mmessage\u001b[39m\u001b[39m\"\u001b[39m)\n\u001b[0;32m      <a href='vscode-notebook-cell:/d%3A/python/oops.ipynb#Y126sZmlsZQ%3D%3D?line=6'>7</a>\u001b[0m \u001b[39mprint\u001b[39m(x \u001b[39m+\u001b[39m y)\n",
      "\u001b[1;31mTestError\u001b[0m: message"
     ]
    }
   ],
   "source": [
    "x = 0\n",
    "y = 20\n",
    "\n",
    "if x == 0 or y == 0:\n",
    "    raise TestError(\"message\")\n",
    "\n",
    "print(x + y)"
   ]
  },
  {
   "cell_type": "code",
   "execution_count": 12,
   "metadata": {},
   "outputs": [
    {
     "name": "stdout",
     "output_type": "stream",
     "text": [
      "A\n",
      "b\n",
      "c\n",
      "D\n"
     ]
    }
   ],
   "source": [
    "s = open(\"temp.txt\", \"r\")\n",
    "x = s.read()\n",
    "print(x)\n",
    "s.close()"
   ]
  },
  {
   "cell_type": "code",
   "execution_count": 24,
   "metadata": {},
   "outputs": [
    {
     "name": "stdout",
     "output_type": "stream",
     "text": [
      "hello \n",
      "hi \n",
      "bye \n",
      "\n"
     ]
    },
    {
     "data": {
      "text/plain": [
       "str"
      ]
     },
     "execution_count": 24,
     "metadata": {},
     "output_type": "execute_result"
    }
   ],
   "source": [
    "fp = open(\"temp.txt\", \"r\")\n",
    "x = fp.read()\n",
    "print(x)\n",
    "fp.close()\n",
    "\n",
    "type(x)"
   ]
  },
  {
   "cell_type": "code",
   "execution_count": 22,
   "metadata": {},
   "outputs": [],
   "source": [
    "a = 'hello \\n'\n",
    "b = 'hi \\n'\n",
    "c = 'bye \\n'\n",
    "\n",
    "f = open(\"temp.txt\", \"w\")\n",
    "f.write(a)\n",
    "f.write(b)\n",
    "f.write(c)\n",
    "f.close()"
   ]
  },
  {
   "cell_type": "code",
   "execution_count": 21,
   "metadata": {},
   "outputs": [],
   "source": [
    "data = '''\n",
    "for i in range(10):\n",
    "    print(i)\n",
    "'''\n",
    "fp = open(\"testdir/temp.py\", \"w\")\n",
    "fp.write(data)\n",
    "fp.close()"
   ]
  },
  {
   "cell_type": "code",
   "execution_count": 26,
   "metadata": {},
   "outputs": [
    {
     "name": "stdout",
     "output_type": "stream",
     "text": [
      "hello \n",
      "hi \n",
      "bye \n",
      "\n"
     ]
    }
   ],
   "source": [
    "fp = open(\"temp.txt\", \"r\")\n",
    "x = fp.read()\n",
    "print(x)\n",
    "fp.close()\n",
    "\n",
    "# type(x)"
   ]
  },
  {
   "cell_type": "code",
   "execution_count": 30,
   "metadata": {},
   "outputs": [
    {
     "name": "stdout",
     "output_type": "stream",
     "text": [
      "hello \n",
      " hi \n",
      " bye \n",
      "\n"
     ]
    }
   ],
   "source": [
    "fp = open(\"temp.txt\", \"r\")\n",
    "res1 = fp.readline()\n",
    "res2 = fp.readline()\n",
    "res3 = fp.readline()\n",
    "fp.close()\n",
    "\n",
    "print(res1, res2, res3)"
   ]
  },
  {
   "cell_type": "code",
   "execution_count": 31,
   "metadata": {},
   "outputs": [
    {
     "name": "stdout",
     "output_type": "stream",
     "text": [
      "['hello \\n', 'hi \\n', 'bye \\n']\n"
     ]
    }
   ],
   "source": [
    "fp = open(\"temp.txt\", 'r')\n",
    "res = fp.readlines()\n",
    "fp.close()\n",
    "\n",
    "print(res)"
   ]
  },
  {
   "cell_type": "code",
   "execution_count": 63,
   "metadata": {},
   "outputs": [],
   "source": [
    "fp = open(\"testdir/correct.txt\", 'r')\n",
    "res = fp.readlines()\n",
    "fp.close()\n",
    "\n",
    "temp = {}\n",
    "\n",
    "for i in res:\n",
    "    d = i.split('=')\n",
    "    temp[d[0]] = d[1]\n",
    "\n",
    "fp = open('testdir/main.txt', 'r')\n",
    "res = fp.readlines()\n",
    "fp.close()\n",
    "main = {}\n",
    "\n",
    "for i in res:\n",
    "    d = i.split('=')\n",
    "    main[d[0]] = d[1]\n",
    "\n",
    "\n",
    "for i in temp:\n",
    "    main[i] = temp[i]\n",
    "\n",
    "data = ''\n",
    "\n",
    "for i in main:\n",
    "    s = '='.join([i, main[i]])\n",
    "    data += s\n",
    "\n",
    "\n",
    "fp = open(\"testdir/main.txt\", 'w')\n",
    "fp.write(data)\n",
    "fp.close()"
   ]
  },
  {
   "cell_type": "code",
   "execution_count": 80,
   "metadata": {},
   "outputs": [],
   "source": [
    "email = f\"\"\"Hi {input()},\n",
    "\n",
    "How are you?\n",
    "\n",
    "Regards,\n",
    "{input()}\n",
    "\"\"\"\n",
    "\n",
    "f = open(\"temp.txt\", 'w')\n",
    "f.write(email)\n",
    "f.close()"
   ]
  },
  {
   "cell_type": "markdown",
   "metadata": {},
   "source": [
    "#### read() --> it will read the entire file"
   ]
  },
  {
   "cell_type": "code",
   "execution_count": 66,
   "metadata": {},
   "outputs": [
    {
     "name": "stdout",
     "output_type": "stream",
     "text": [
      "Hi Kishore,\n",
      "\n",
      "How are you?\n",
      "\n",
      "Regards,\n",
      "Prabhu\n",
      "\n"
     ]
    }
   ],
   "source": [
    "fp = open(\"temp.txt\")\n",
    "res = fp.read()\n",
    "fp.close()\n",
    "\n",
    "print(res)"
   ]
  },
  {
   "cell_type": "code",
   "execution_count": 73,
   "metadata": {},
   "outputs": [
    {
     "name": "stdout",
     "output_type": "stream",
     "text": [
      "Hi Kishore,\n",
      " \n",
      " How are you?\n",
      " \n",
      " Regards,\n",
      " Prabhu\n",
      "\n"
     ]
    }
   ],
   "source": [
    "fp = open(\"temp.txt\")\n",
    "res = fp.readline()\n",
    "res1 = fp.readline()\n",
    "res2 = fp.readline()\n",
    "res3 = fp.readline()\n",
    "res4 = fp.readline()\n",
    "res5 = fp.readline()\n",
    "fp.close()\n",
    "\n",
    "print(res, res1, res2, res3, res4, res5)"
   ]
  },
  {
   "cell_type": "code",
   "execution_count": 74,
   "metadata": {},
   "outputs": [
    {
     "name": "stdout",
     "output_type": "stream",
     "text": [
      "['Hi Kishore,\\n', '\\n', 'How are you?\\n', '\\n', 'Regards,\\n', 'Prabhu\\n']\n"
     ]
    }
   ],
   "source": [
    "fp = open(\"temp.txt\", 'r')\n",
    "res = fp.readlines()\n",
    "fp.close()\n",
    "\n",
    "print(res)"
   ]
  },
  {
   "cell_type": "code",
   "execution_count": 79,
   "metadata": {},
   "outputs": [],
   "source": [
    "f = open(\"temp.txt\", 'w')\n",
    "f.write('msg')\n",
    "f.close()"
   ]
  },
  {
   "cell_type": "code",
   "execution_count": 82,
   "metadata": {},
   "outputs": [],
   "source": [
    "f = open('a.txt', 'a')\n",
    "f.write('data')\n",
    "f.close()"
   ]
  },
  {
   "cell_type": "code",
   "execution_count": 83,
   "metadata": {},
   "outputs": [],
   "source": [
    "new_data = \"\"\"------------------------------\n",
    "Thsi email is from MSys.\n",
    "\"\"\"\n",
    "\n",
    "fp = open(\"temp.txt\", \"a\")\n",
    "fp.write(new_data)\n",
    "fp.close()"
   ]
  },
  {
   "cell_type": "code",
   "execution_count": 93,
   "metadata": {},
   "outputs": [
    {
     "name": "stdout",
     "output_type": "stream",
     "text": [
      "29\n",
      "0\n",
      "Hi Kishore,\n",
      " \n",
      " How are you?\n",
      " Hi Kishore,\n",
      "\n"
     ]
    }
   ],
   "source": [
    "fp = open(\"temp.txt\")\n",
    "res = fp.readline()\n",
    "res1 = fp.readline()\n",
    "res2 = fp.readline()\n",
    "print(fp.tell())\n",
    "fp.seek(0)\n",
    "print(fp.tell())\n",
    "res3 = fp.readline()\n",
    "# res4 = fp.readline()\n",
    "# res5 = fp.readline()\n",
    "fp.close()\n",
    "\n",
    "# print(res, res1, res2, res3, res4, res5)\n",
    "print(res, res1, res2, res3)"
   ]
  },
  {
   "cell_type": "code",
   "execution_count": 120,
   "metadata": {},
   "outputs": [
    {
     "ename": "KeyboardInterrupt",
     "evalue": "",
     "output_type": "error",
     "traceback": [
      "\u001b[1;31m---------------------------------------------------------------------------\u001b[0m",
      "\u001b[1;31mKeyboardInterrupt\u001b[0m                         Traceback (most recent call last)",
      "\u001b[1;32md:\\python\\oops.ipynb Cell 88\u001b[0m in \u001b[0;36m<cell line: 5>\u001b[1;34m()\u001b[0m\n\u001b[0;32m      <a href='vscode-notebook-cell:/d%3A/python/oops.ipynb#Y156sZmlsZQ%3D%3D?line=2'>3</a>\u001b[0m fp \u001b[39m=\u001b[39m \u001b[39mopen\u001b[39m(\u001b[39m'\u001b[39m\u001b[39moutput.txt\u001b[39m\u001b[39m'\u001b[39m, \u001b[39m'\u001b[39m\u001b[39mw\u001b[39m\u001b[39m'\u001b[39m)\n\u001b[0;32m      <a href='vscode-notebook-cell:/d%3A/python/oops.ipynb#Y156sZmlsZQ%3D%3D?line=3'>4</a>\u001b[0m \u001b[39mprint\u001b[39m(\u001b[39m'\u001b[39m\u001b[39ma\u001b[39m\u001b[39m'\u001b[39m, \u001b[39m'\u001b[39m\u001b[39mb\u001b[39m\u001b[39m'\u001b[39m, \u001b[39m'\u001b[39m\u001b[39mc\u001b[39m\u001b[39m'\u001b[39m, \u001b[39m'\u001b[39m\u001b[39md\u001b[39m\u001b[39m'\u001b[39m, \u001b[39m'\u001b[39m\u001b[39me\u001b[39m\u001b[39m'\u001b[39m, sep\u001b[39m=\u001b[39m\u001b[39m\"\u001b[39m\u001b[39m <--> \u001b[39m\u001b[39m\"\u001b[39m, end\u001b[39m=\u001b[39m\u001b[39m\"\u001b[39m\u001b[39m * \u001b[39m\u001b[39m\"\u001b[39m, file\u001b[39m=\u001b[39mfp, flush\u001b[39m=\u001b[39m\u001b[39mTrue\u001b[39;00m)\n\u001b[1;32m----> <a href='vscode-notebook-cell:/d%3A/python/oops.ipynb#Y156sZmlsZQ%3D%3D?line=4'>5</a>\u001b[0m \u001b[39mwhile\u001b[39;00m \u001b[39mTrue\u001b[39;00m:\n\u001b[0;32m      <a href='vscode-notebook-cell:/d%3A/python/oops.ipynb#Y156sZmlsZQ%3D%3D?line=5'>6</a>\u001b[0m     \u001b[39mpass\u001b[39;00m\n\u001b[0;32m      <a href='vscode-notebook-cell:/d%3A/python/oops.ipynb#Y156sZmlsZQ%3D%3D?line=6'>7</a>\u001b[0m fp\u001b[39m.\u001b[39mclose()\n",
      "\u001b[1;31mKeyboardInterrupt\u001b[0m: "
     ]
    }
   ],
   "source": [
    "import sys\n",
    "\n",
    "fp = open('output.txt', 'w')\n",
    "print('a', 'b', 'c', 'd', 'e', sep=\" <--> \", end=\" * \", file=fp, flush=True)\n",
    "fp.close()\n",
    "\n",
    "\n",
    "# print(\"x\", \"y\", \"z\", end=\" <=> \")\n",
    "\n",
    "# print(10, 20)"
   ]
  },
  {
   "cell_type": "code",
   "execution_count": 1,
   "metadata": {},
   "outputs": [
    {
     "name": "stdout",
     "output_type": "stream",
     "text": [
      "1\n",
      "2\n",
      "3\n",
      "4\n",
      "5\n"
     ]
    }
   ],
   "source": [
    "x = [1, 2, 3, 4, 5]\n",
    "\n",
    "for i in x:\n",
    "    print(i)"
   ]
  },
  {
   "cell_type": "code",
   "execution_count": 3,
   "metadata": {},
   "outputs": [
    {
     "name": "stdout",
     "output_type": "stream",
     "text": [
      "<list_iterator object at 0x000001EB33A27CD0>\n"
     ]
    }
   ],
   "source": [
    "x = [1, 2, 3, 4, 5]\n",
    "\n",
    "v = iter(x)\n",
    "\n",
    "print(v)"
   ]
  },
  {
   "cell_type": "code",
   "execution_count": 5,
   "metadata": {},
   "outputs": [
    {
     "name": "stdout",
     "output_type": "stream",
     "text": [
      "<_io.TextIOWrapper name='temp.txt' mode='r' encoding='cp1252'>\n",
      "0\n"
     ]
    }
   ],
   "source": [
    "fp = open(\"temp.txt\")\n",
    "print(fp)\n",
    "print(fp.tell())\n",
    "fp.close()"
   ]
  },
  {
   "cell_type": "code",
   "execution_count": 11,
   "metadata": {},
   "outputs": [
    {
     "name": "stdout",
     "output_type": "stream",
     "text": [
      "<list_iterator object at 0x000001EB33A27700>\n",
      "1\n",
      "2\n",
      "3\n",
      "4\n",
      "5\n"
     ]
    },
    {
     "ename": "StopIteration",
     "evalue": "",
     "output_type": "error",
     "traceback": [
      "\u001b[1;31m---------------------------------------------------------------------------\u001b[0m",
      "\u001b[1;31mStopIteration\u001b[0m                             Traceback (most recent call last)",
      "\u001b[1;32md:\\python\\oops.ipynb Cell 92\u001b[0m in \u001b[0;36m<cell line: 12>\u001b[1;34m()\u001b[0m\n\u001b[0;32m     <a href='vscode-notebook-cell:/d%3A/python/oops.ipynb#Y160sZmlsZQ%3D%3D?line=9'>10</a>\u001b[0m \u001b[39mprint\u001b[39m(\u001b[39mnext\u001b[39m(vi))\n\u001b[0;32m     <a href='vscode-notebook-cell:/d%3A/python/oops.ipynb#Y160sZmlsZQ%3D%3D?line=10'>11</a>\u001b[0m \u001b[39mprint\u001b[39m(\u001b[39mnext\u001b[39m(vi))\n\u001b[1;32m---> <a href='vscode-notebook-cell:/d%3A/python/oops.ipynb#Y160sZmlsZQ%3D%3D?line=11'>12</a>\u001b[0m \u001b[39mprint\u001b[39m(\u001b[39mnext\u001b[39;49m(vi))\n",
      "\u001b[1;31mStopIteration\u001b[0m: "
     ]
    }
   ],
   "source": [
    "x = [1, 2, 3, 4, 5]\n",
    "\n",
    "vi = iter(x)\n",
    "\n",
    "print(vi)\n",
    "\n",
    "print(next(vi))\n",
    "print(next(vi))\n",
    "print(next(vi))\n",
    "print(next(vi))\n",
    "print(next(vi))\n",
    "print(next(vi))"
   ]
  },
  {
   "cell_type": "code",
   "execution_count": 16,
   "metadata": {},
   "outputs": [
    {
     "name": "stdout",
     "output_type": "stream",
     "text": [
      "M\n",
      "S\n",
      "y\n",
      "s\n"
     ]
    }
   ],
   "source": [
    "s = {10, 100, 1000}\n",
    "s = \"MSys\"\n",
    "\n",
    "v = iter(s)\n",
    "\n",
    "print(next(v))\n",
    "print(next(v))\n",
    "print(next(v))\n",
    "print(next(v))"
   ]
  },
  {
   "cell_type": "markdown",
   "metadata": {},
   "source": [
    "### traditional way of pening file"
   ]
  },
  {
   "cell_type": "code",
   "execution_count": 18,
   "metadata": {},
   "outputs": [],
   "source": [
    "fp = open(\"output.txt\", 'w')\n",
    "for i in range(1, 11):\n",
    "    fp.write(f\"{i} \\n\")\n",
    "fp.close()"
   ]
  },
  {
   "cell_type": "code",
   "execution_count": null,
   "metadata": {},
   "outputs": [],
   "source": []
  }
 ],
 "metadata": {
  "kernelspec": {
   "display_name": "Python 3.10.6 64-bit",
   "language": "python",
   "name": "python3"
  },
  "language_info": {
   "codemirror_mode": {
    "name": "ipython",
    "version": 3
   },
   "file_extension": ".py",
   "mimetype": "text/x-python",
   "name": "python",
   "nbconvert_exporter": "python",
   "pygments_lexer": "ipython3",
   "version": "3.10.6"
  },
  "orig_nbformat": 4,
  "vscode": {
   "interpreter": {
    "hash": "cb746cae21d8eece361e3d69b5b88e7465dccc6b14f8d94d4bf000eb937e2588"
   }
  }
 },
 "nbformat": 4,
 "nbformat_minor": 2
}
