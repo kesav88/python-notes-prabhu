{
 "cells": [
  {
   "cell_type": "code",
   "execution_count": 5,
   "metadata": {},
   "outputs": [
    {
     "name": "stdout",
     "output_type": "stream",
     "text": [
      "30\n",
      "200\n"
     ]
    }
   ],
   "source": [
    "a = 10\n",
    "b = 20\n",
    "\n",
    "def adder(a, b):\n",
    "    # print(a + b)\n",
    "    return a + b\n",
    "\n",
    "print(adder(a, b))\n",
    "\n",
    "x, y = 10, 20\n",
    "print(x*y)"
   ]
  },
  {
   "cell_type": "code",
   "execution_count": 2,
   "metadata": {},
   "outputs": [],
   "source": [
    "class Car:\n",
    "    color = 'red'\n",
    "    wheels = 4\n",
    "\n",
    "    def start(self):\n",
    "        print('started')\n",
    "\n",
    "    def stop(self):\n",
    "        print('stopped')\n",
    "\n",
    "nano = Car()\n",
    "tesla = Car()"
   ]
  },
  {
   "cell_type": "code",
   "execution_count": 3,
   "metadata": {},
   "outputs": [
    {
     "name": "stdout",
     "output_type": "stream",
     "text": [
      "car color : red\n",
      "nano color : red\n",
      "tesla color : red\n",
      "2876641045872 2876641045872 2876641045872\n",
      "\n",
      "2876644567856 2876644567856 2876644567856\n",
      "car color : Green\n",
      "nano color : Green\n",
      "tesla color : Green\n",
      "\n",
      "2876644567856 2876641046000 2876644567856\n",
      "car color : Green\n",
      "nano color : blue\n",
      "tesla color : Green\n"
     ]
    }
   ],
   "source": [
    "print('car color :', Car.color)\n",
    "print('nano color :', nano.color)\n",
    "print('tesla color :', tesla.color)\n",
    "print(id(Car.color), id(nano.color), id(tesla.color))\n",
    "print()\n",
    "Car.color = 'Green'\n",
    "print(id(Car.color), id(nano.color), id(tesla.color))\n",
    "print('car color :', Car.color)\n",
    "print('nano color :', nano.color)\n",
    "print('tesla color :', tesla.color)\n",
    "print()\n",
    "nano.color = 'blue'\n",
    "print(id(Car.color), id(nano.color), id(tesla.color))\n",
    "print('car color :', Car.color)\n",
    "print('nano color :', nano.color)\n",
    "print('tesla color :', tesla.color)\n"
   ]
  },
  {
   "cell_type": "code",
   "execution_count": 11,
   "metadata": {},
   "outputs": [],
   "source": [
    "nano = Car()\n",
    "tesla = Car()"
   ]
  },
  {
   "cell_type": "code",
   "execution_count": 13,
   "metadata": {},
   "outputs": [
    {
     "name": "stdout",
     "output_type": "stream",
     "text": [
      "started\n"
     ]
    }
   ],
   "source": [
    "nano.start()"
   ]
  },
  {
   "cell_type": "code",
   "execution_count": 15,
   "metadata": {},
   "outputs": [
    {
     "name": "stdout",
     "output_type": "stream",
     "text": [
      "<class 'function'>\n"
     ]
    }
   ],
   "source": [
    "def test():\n",
    "    pass\n",
    "\n",
    "print(type(test))"
   ]
  },
  {
   "cell_type": "code",
   "execution_count": 7,
   "metadata": {},
   "outputs": [],
   "source": [
    "class Emp:\n",
    "    name = ''\n",
    "    age = 0\n",
    "    address = ''\n",
    "    job_role = ''\n",
    "\n",
    "emp1 = Emp()\n",
    "emp2 = Emp()\n",
    "emp3 = Emp()\n",
    "emp4 = Emp()"
   ]
  },
  {
   "cell_type": "code",
   "execution_count": 8,
   "metadata": {},
   "outputs": [
    {
     "data": {
      "text/plain": [
       "['__module__',\n",
       " 'name',\n",
       " 'age',\n",
       " 'address',\n",
       " 'job_role',\n",
       " '__dict__',\n",
       " '__weakref__',\n",
       " '__doc__',\n",
       " '__new__',\n",
       " '__repr__',\n",
       " '__hash__',\n",
       " '__str__',\n",
       " '__getattribute__',\n",
       " '__setattr__',\n",
       " '__delattr__',\n",
       " '__lt__',\n",
       " '__le__',\n",
       " '__eq__',\n",
       " '__ne__',\n",
       " '__gt__',\n",
       " '__ge__',\n",
       " '__init__',\n",
       " '__reduce_ex__',\n",
       " '__reduce__',\n",
       " '__subclasshook__',\n",
       " '__init_subclass__',\n",
       " '__format__',\n",
       " '__sizeof__',\n",
       " '__dir__',\n",
       " '__class__']"
      ]
     },
     "execution_count": 8,
     "metadata": {},
     "output_type": "execute_result"
    }
   ],
   "source": [
    "emp1.__dir__()"
   ]
  },
  {
   "cell_type": "code",
   "execution_count": 4,
   "metadata": {},
   "outputs": [],
   "source": [
    "class Car:\n",
    "    color = 'red'\n",
    "    wheels = 4\n",
    "\n",
    "    def start(self):\n",
    "        print('started')\n",
    "\n",
    "    def stop(self):\n",
    "        print('stopped')\n",
    "\n",
    "nano = Car()\n",
    "tesla = Car()"
   ]
  },
  {
   "cell_type": "code",
   "execution_count": 11,
   "metadata": {},
   "outputs": [
    {
     "name": "stdout",
     "output_type": "stream",
     "text": [
      "['__module__', 'color', 'wheels', 'start', 'stop', '__dict__', '__weakref__', '__doc__', '__new__', '__repr__', '__hash__', '__str__', '__getattribute__', '__setattr__', '__delattr__', '__lt__', '__le__', '__eq__', '__ne__', '__gt__', '__ge__', '__init__', '__reduce_ex__', '__reduce__', '__subclasshook__', '__init_subclass__', '__format__', '__sizeof__', '__dir__', '__class__']\n",
      "['__module__', 'color', 'wheels', 'start', 'stop', '__dict__', '__weakref__', '__doc__', '__new__', '__repr__', '__hash__', '__str__', '__getattribute__', '__setattr__', '__delattr__', '__lt__', '__le__', '__eq__', '__ne__', '__gt__', '__ge__', '__init__', '__reduce_ex__', '__reduce__', '__subclasshook__', '__init_subclass__', '__format__', '__sizeof__', '__dir__', '__class__']\n"
     ]
    }
   ],
   "source": [
    "print(nano.__dir__())\n",
    "print(tesla.__dir__())"
   ]
  },
  {
   "cell_type": "code",
   "execution_count": 12,
   "metadata": {},
   "outputs": [],
   "source": [
    "tesla.ads = True"
   ]
  },
  {
   "cell_type": "code",
   "execution_count": 16,
   "metadata": {},
   "outputs": [
    {
     "name": "stdout",
     "output_type": "stream",
     "text": [
      "['__module__', 'color', 'wheels', 'start', 'stop', '__dict__', '__weakref__', '__doc__', '__new__', '__repr__', '__hash__', '__str__', '__getattribute__', '__setattr__', '__delattr__', '__lt__', '__le__', '__eq__', '__ne__', '__gt__', '__ge__', '__init__', '__reduce_ex__', '__reduce__', '__subclasshook__', '__init_subclass__', '__format__', '__sizeof__', '__dir__', '__class__']\n",
      "['ads', '__module__', 'color', 'wheels', 'start', 'stop', '__dict__', '__weakref__', '__doc__', '__new__', '__repr__', '__hash__', '__str__', '__getattribute__', '__setattr__', '__delattr__', '__lt__', '__le__', '__eq__', '__ne__', '__gt__', '__ge__', '__init__', '__reduce_ex__', '__reduce__', '__subclasshook__', '__init_subclass__', '__format__', '__sizeof__', '__dir__', '__class__']\n"
     ]
    }
   ],
   "source": [
    "print(nano.__dir__())\n",
    "print(tesla.__dir__())"
   ]
  },
  {
   "cell_type": "code",
   "execution_count": 33,
   "metadata": {},
   "outputs": [],
   "source": [
    "class Circle:\n",
    "\n",
    "    def __init__(self, r, pi) -> None:\n",
    "        self.r = r\n",
    "        self.pi = pi\n",
    "\n",
    "    def area(self):\n",
    "        print( self.pi * (self.r ** 2))"
   ]
  },
  {
   "cell_type": "code",
   "execution_count": 34,
   "metadata": {},
   "outputs": [
    {
     "name": "stdout",
     "output_type": "stream",
     "text": [
      "78.5\n",
      "314.5\n"
     ]
    }
   ],
   "source": [
    "a = Circle(5, 3.14)\n",
    "a.area()\n",
    "\n",
    "b = Circle(10, 3.145)\n",
    "b.area()"
   ]
  },
  {
   "cell_type": "code",
   "execution_count": 26,
   "metadata": {},
   "outputs": [],
   "source": [
    "class Car:\n",
    "    wheels = 4\n",
    "\n",
    "    def __init__(self, c):\n",
    "        self.color = c\n",
    "\n",
    "    def start(self):\n",
    "        print(\"started\")\n",
    "\n",
    "    def stop(self):\n",
    "        print('stopped')\n",
    "\n",
    "nano = Car(\"red\")\n",
    "tesla = Car(\"Green\")"
   ]
  },
  {
   "cell_type": "code",
   "execution_count": 28,
   "metadata": {},
   "outputs": [
    {
     "data": {
      "text/plain": [
       "'Green'"
      ]
     },
     "execution_count": 28,
     "metadata": {},
     "output_type": "execute_result"
    }
   ],
   "source": [
    "tesla.color"
   ]
  },
  {
   "cell_type": "code",
   "execution_count": 5,
   "metadata": {},
   "outputs": [
    {
     "name": "stdout",
     "output_type": "stream",
     "text": [
      "red\n",
      "Green\n"
     ]
    }
   ],
   "source": [
    "class Car:\n",
    "    wheels = 4\n",
    "\n",
    "    def __init__(self, c):\n",
    "        self.color = c\n",
    "\n",
    "    def start(self):\n",
    "        print(\"started\")\n",
    "\n",
    "    def stop(self):\n",
    "        print('stopped')\n",
    "\n",
    "\n",
    "nano = Car(\"red\")\n",
    "tesla = Car(\"Green\")\n",
    "\n",
    "print(nano.color)\n",
    "print(tesla.color)"
   ]
  },
  {
   "cell_type": "code",
   "execution_count": 11,
   "metadata": {},
   "outputs": [
    {
     "name": "stdout",
     "output_type": "stream",
     "text": [
      "Area of rect is 20 \n",
      "Area of rect is 150 \n",
      "Area of rect is 24 \n"
     ]
    }
   ],
   "source": [
    "class Rect:\n",
    "    def __init__(self, l, b):\n",
    "        self.l = l\n",
    "        self.b = b\n",
    "\n",
    "    def area(self):\n",
    "        print(f\"Area of rect is {self.l * self.b} \")\n",
    "\n",
    "\n",
    "r1 = Rect(5, 4)\n",
    "r1.area()\n",
    "r2 = Rect(10, 15)\n",
    "r2.area()\n",
    "r3 = Rect(3, 8)\n",
    "Rect.area(r3)"
   ]
  },
  {
   "cell_type": "code",
   "execution_count": 12,
   "metadata": {},
   "outputs": [
    {
     "name": "stdout",
     "output_type": "stream",
     "text": [
      "5\n",
      "6\n",
      "7\n",
      "8\n"
     ]
    }
   ],
   "source": [
    "class Temp:\n",
    "    def __init__(self, v) :\n",
    "        self.val = v\n",
    "\n",
    "    def adder(self):\n",
    "        self.val = self.val + 1\n",
    "\n",
    "obj = Temp(5)\n",
    "print(obj.val)\n",
    "obj.adder()\n",
    "print(obj.val)\n",
    "obj.adder()\n",
    "print(obj.val)\n",
    "obj.adder()\n",
    "print(obj.val)"
   ]
  },
  {
   "cell_type": "code",
   "execution_count": null,
   "metadata": {},
   "outputs": [],
   "source": []
  }
 ],
 "metadata": {
  "kernelspec": {
   "display_name": "Python 3.10.6 64-bit",
   "language": "python",
   "name": "python3"
  },
  "language_info": {
   "codemirror_mode": {
    "name": "ipython",
    "version": 3
   },
   "file_extension": ".py",
   "mimetype": "text/x-python",
   "name": "python",
   "nbconvert_exporter": "python",
   "pygments_lexer": "ipython3",
   "version": "3.10.6"
  },
  "orig_nbformat": 4,
  "vscode": {
   "interpreter": {
    "hash": "cb746cae21d8eece361e3d69b5b88e7465dccc6b14f8d94d4bf000eb937e2588"
   }
  }
 },
 "nbformat": 4,
 "nbformat_minor": 2
}
