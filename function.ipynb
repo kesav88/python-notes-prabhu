{
 "cells": [
  {
   "cell_type": "code",
   "execution_count": 2,
   "metadata": {},
   "outputs": [
    {
     "name": "stdout",
     "output_type": "stream",
     "text": [
      "My name is MSys\n"
     ]
    }
   ],
   "source": [
    "def print_name(name):\n",
    "    print(\"My name is\",name)\n",
    "\n",
    "print_name(\"MSys\")"
   ]
  },
  {
   "cell_type": "code",
   "execution_count": 5,
   "metadata": {},
   "outputs": [
    {
     "name": "stdout",
     "output_type": "stream",
     "text": [
      "[1, 2, 3, 4, 5]\n",
      "[1, 2, 3, 400, 5]\n"
     ]
    }
   ],
   "source": [
    "def change_element(arr, index, element):\n",
    "    arr[index] = element\n",
    "\n",
    "\n",
    "arr = [1, 2, 3, 4, 5]\n",
    "print(arr)\n",
    "change_element(arr, 3, 400)\n",
    "print(arr)"
   ]
  },
  {
   "cell_type": "code",
   "execution_count": 9,
   "metadata": {},
   "outputs": [
    {
     "name": "stdout",
     "output_type": "stream",
     "text": [
      "7\n"
     ]
    },
    {
     "data": {
      "text/plain": [
       "'ABC XYZ'"
      ]
     },
     "execution_count": 9,
     "metadata": {},
     "output_type": "execute_result"
    }
   ],
   "source": []
  },
  {
   "cell_type": "markdown",
   "metadata": {},
   "source": [
    "String Formatting\n",
    "------------------------\n",
    "z = \"abc\"\n",
    "\n",
    ".format()"
   ]
  },
  {
   "cell_type": "code",
   "execution_count": 13,
   "metadata": {},
   "outputs": [
    {
     "name": "stdout",
     "output_type": "stream",
     "text": [
      "index 1 , val is 10\n",
      "index 1, val is 10\n",
      "index 10, val is 1\n"
     ]
    }
   ],
   "source": [
    "i = 1\n",
    "v = 10\n",
    "print('index', i, \", val is\", v)\n",
    "print(\"index {}, val is {}\".format(i, v)) \n",
    "print(\"index {s1}, val is {s2}\".format(s1=v, s2= i)) "
   ]
  },
  {
   "cell_type": "code",
   "execution_count": 14,
   "metadata": {},
   "outputs": [
    {
     "name": "stdout",
     "output_type": "stream",
     "text": [
      "index is 1, val is 10\n"
     ]
    }
   ],
   "source": [
    "i = 1\n",
    "v = 10\n",
    "\n",
    "print(f\"index is {i}, val is {v}\")"
   ]
  },
  {
   "cell_type": "code",
   "execution_count": 15,
   "metadata": {},
   "outputs": [
    {
     "name": "stdout",
     "output_type": "stream",
     "text": [
      "index is 0 and number is 100\n"
     ]
    }
   ],
   "source": [
    "arr = [10, 20, 30, 40, 50]\n",
    "\n",
    "print(\"index is 0 and number is 100\")"
   ]
  },
  {
   "cell_type": "code",
   "execution_count": null,
   "metadata": {},
   "outputs": [],
   "source": [
    "for i, v in enumerate(arr):\n",
    "    print(\"index is\", i, \"and value is\", v ** 2)"
   ]
  },
  {
   "cell_type": "code",
   "execution_count": null,
   "metadata": {},
   "outputs": [],
   "source": [
    "for i, v in enumerate(arr):\n",
    "    print(\"index is {} and value is {}\".format(i, v**2))"
   ]
  },
  {
   "cell_type": "code",
   "execution_count": 21,
   "metadata": {},
   "outputs": [
    {
     "name": "stdout",
     "output_type": "stream",
     "text": [
      "index is 0 and value is 100\n",
      "index is 1 and value is 400\n",
      "index is 2 and value is 900\n",
      "index is 3 and value is 1600\n",
      "index is 4 and value is 2500\n"
     ]
    }
   ],
   "source": [
    "for i, v in enumerate(arr):\n",
    "    print(f\"index is {i} and value is {v ** 2}\")"
   ]
  },
  {
   "cell_type": "code",
   "execution_count": 30,
   "metadata": {},
   "outputs": [
    {
     "name": "stdout",
     "output_type": "stream",
     "text": [
      "4.588\n",
      "4.59\n",
      "4.588 <class 'str'>\n",
      "4.588 <class 'float'>\n"
     ]
    }
   ],
   "source": [
    "f = 4.5878995994\n",
    "\n",
    "print(f\"{f:.3f}\")\n",
    "print(\"{:.2f}\".format(f))\n",
    "\n",
    "res = f\"{f:.3f}\"\n",
    "print(res, type(res))\n",
    "res = float(res)\n",
    "\n",
    "print(res, type(res))"
   ]
  },
  {
   "cell_type": "code",
   "execution_count": 23,
   "metadata": {},
   "outputs": [
    {
     "data": {
      "text/plain": [
       "5"
      ]
     },
     "execution_count": 23,
     "metadata": {},
     "output_type": "execute_result"
    }
   ],
   "source": [
    "round(4.5878995994)"
   ]
  },
  {
   "cell_type": "code",
   "execution_count": 32,
   "metadata": {},
   "outputs": [
    {
     "name": "stdout",
     "output_type": "stream",
     "text": [
      "a is 10, b is 20, c is 30\n"
     ]
    }
   ],
   "source": [
    "a = 10\n",
    "b = 20\n",
    "c = 30\n",
    "\n",
    "print(f\"a is {a}, b is {b}, c is {c}\")"
   ]
  },
  {
   "cell_type": "code",
   "execution_count": 33,
   "metadata": {},
   "outputs": [],
   "source": [
    "d = {1:'abc', 2:'pqr', 3:\"xyz\"}"
   ]
  },
  {
   "cell_type": "code",
   "execution_count": 36,
   "metadata": {},
   "outputs": [
    {
     "name": "stdout",
     "output_type": "stream",
     "text": [
      "for key 1 val is ' abc '\n",
      "for key 2 val is ' pqr '\n",
      "for key 3 val is ' xyz '\n"
     ]
    }
   ],
   "source": [
    "for key, val in d.items():\n",
    "    print(\"for key\", key, \"val is\", \"'\", val, \"'\")"
   ]
  },
  {
   "cell_type": "code",
   "execution_count": 37,
   "metadata": {},
   "outputs": [
    {
     "name": "stdout",
     "output_type": "stream",
     "text": [
      "for key 1 val is 'abc'\n",
      "for key 2 val is 'pqr'\n",
      "for key 3 val is 'xyz'\n"
     ]
    }
   ],
   "source": [
    "for key, val in d.items():\n",
    "    print(f\"for key {key} val is '{val}'\")"
   ]
  },
  {
   "cell_type": "code",
   "execution_count": 49,
   "metadata": {},
   "outputs": [
    {
     "name": "stdout",
     "output_type": "stream",
     "text": [
      "('abc', 'zxc')\n"
     ]
    }
   ],
   "source": [
    "def func():\n",
    "    return \"abc\", 'zxc'\n",
    "\n",
    "x= func()\n",
    "print(x)"
   ]
  },
  {
   "cell_type": "code",
   "execution_count": 50,
   "metadata": {},
   "outputs": [
    {
     "name": "stdout",
     "output_type": "stream",
     "text": [
      "62.800000000000004\n"
     ]
    }
   ],
   "source": [
    "def pi():\n",
    "    return 3.14\n",
    "\n",
    "r = 10\n",
    "print(2 * pi() * r)"
   ]
  },
  {
   "cell_type": "code",
   "execution_count": 52,
   "metadata": {},
   "outputs": [
    {
     "name": "stdout",
     "output_type": "stream",
     "text": [
      "[6.28, 12.56, 18.84, 25.12, 31.400000000000002]\n"
     ]
    }
   ],
   "source": [
    "def pi():\n",
    "    return 3.14\n",
    "\n",
    "def per(r):\n",
    "    return 2 * pi() * r\n",
    "\n",
    "res = []\n",
    "\n",
    "for i in range(5):\n",
    "    r = int(input())\n",
    "    res.append(per(r))\n",
    "\n",
    "print(res)"
   ]
  },
  {
   "cell_type": "code",
   "execution_count": 4,
   "metadata": {},
   "outputs": [
    {
     "name": "stdout",
     "output_type": "stream",
     "text": [
      "[0, 2, 4, 6, 8, 10, 12, 14, 16, 18, 20, 22, 24, 26, 28, 30, 32, 34, 36, 38, 40, 42, 44, 46, 48, 50, 52, 54, 56, 58, 60, 62, 64, 66, 68, 70, 72, 74, 76, 78, 80, 82, 84, 86, 88, 90, 92, 94, 96, 98]\n"
     ]
    }
   ],
   "source": [
    "# wap to create a function, it will return all even numbers as listtill n\n",
    "\n",
    "def even(n):\n",
    "    arr = []\n",
    "\n",
    "    for i in range(n):\n",
    "        if i % 2 == 0:\n",
    "            arr.append(i)\n",
    "\n",
    "    return arr\n",
    "\n",
    "n = int(input())\n",
    "res = even(n)\n",
    "print(res)"
   ]
  },
  {
   "cell_type": "code",
   "execution_count": null,
   "metadata": {},
   "outputs": [],
   "source": []
  }
 ],
 "metadata": {
  "kernelspec": {
   "display_name": "Python 3.10.6 64-bit",
   "language": "python",
   "name": "python3"
  },
  "language_info": {
   "codemirror_mode": {
    "name": "ipython",
    "version": 3
   },
   "file_extension": ".py",
   "mimetype": "text/x-python",
   "name": "python",
   "nbconvert_exporter": "python",
   "pygments_lexer": "ipython3",
   "version": "3.10.6"
  },
  "orig_nbformat": 4,
  "vscode": {
   "interpreter": {
    "hash": "cb746cae21d8eece361e3d69b5b88e7465dccc6b14f8d94d4bf000eb937e2588"
   }
  }
 },
 "nbformat": 4,
 "nbformat_minor": 2
}
