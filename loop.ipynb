{
 "cells": [
  {
   "cell_type": "code",
   "execution_count": 2,
   "metadata": {},
   "outputs": [
    {
     "name": "stdout",
     "output_type": "stream",
     "text": [
      "TSB\n",
      "Next Line\n"
     ]
    }
   ],
   "source": [
    "if True:\n",
    "    # TSB\n",
    "    print(\"TSB\")\n",
    "\n",
    "if False:\n",
    "    print('TSB')\n",
    "\n",
    "print('Next Line')"
   ]
  },
  {
   "cell_type": "code",
   "execution_count": 3,
   "metadata": {},
   "outputs": [
    {
     "name": "stdout",
     "output_type": "stream",
     "text": [
      "TSB\n",
      "\n"
     ]
    }
   ],
   "source": [
    "if True:\n",
    "    print('TSB')\n",
    "else:\n",
    "    print('FSB')\n",
    "\n",
    "print()"
   ]
  },
  {
   "cell_type": "code",
   "execution_count": 5,
   "metadata": {},
   "outputs": [
    {
     "name": "stdout",
     "output_type": "stream",
     "text": [
      "TSB 2\n",
      "Next Line\n"
     ]
    }
   ],
   "source": [
    "if False:\n",
    "    print('TSB 1')\n",
    "elif True:\n",
    "    print('TSB 2')\n",
    "else:\n",
    "    print('FSB')\n",
    "\n",
    "print('Next Line')"
   ]
  },
  {
   "cell_type": "code",
   "execution_count": 10,
   "metadata": {},
   "outputs": [
    {
     "name": "stdout",
     "output_type": "stream",
     "text": [
      "1\n",
      "2\n",
      "3\n",
      "4\n",
      "5\n",
      "6\n",
      "7\n",
      "8\n",
      "9\n",
      "10\n",
      "executed\n"
     ]
    }
   ],
   "source": [
    "n = 1\n",
    "\n",
    "while n <= 10: # n = 11 | 11 <= 10\n",
    "    print(n)  # 1 2 3 4 5 .... 7 8 9 10\n",
    "    n += 1  # n = 11\n",
    "\n",
    "print('executed')"
   ]
  },
  {
   "cell_type": "code",
   "execution_count": 2,
   "metadata": {},
   "outputs": [
    {
     "name": "stdout",
     "output_type": "stream",
     "text": [
      "10\n",
      "9\n",
      "8\n",
      "7\n",
      "6\n",
      "5\n",
      "4\n",
      "3\n",
      "2\n",
      "1\n"
     ]
    }
   ],
   "source": [
    "# 10 9 8 ..... 1\n",
    "\n",
    "n = 10\n",
    "\n",
    "while n > 0: # 10 <= 0\n",
    "    print(n)\n",
    "    n = n - 1"
   ]
  },
  {
   "cell_type": "code",
   "execution_count": null,
   "metadata": {},
   "outputs": [],
   "source": [
    "# print all numbers from 50 to 70,  50, 51, 52, .... 69\n",
    "\n",
    "n = 50\n",
    "\n",
    "while n < 70:\n",
    "    print(n)\n",
    "    n = n + 1"
   ]
  },
  {
   "cell_type": "code",
   "execution_count": 5,
   "metadata": {},
   "outputs": [
    {
     "name": "stdout",
     "output_type": "stream",
     "text": [
      "odd\n"
     ]
    }
   ],
   "source": [
    "n = 43\n",
    "\n",
    "if n % 2 == 0:\n",
    "    print('even')\n"
   ]
  },
  {
   "cell_type": "code",
   "execution_count": 9,
   "metadata": {},
   "outputs": [
    {
     "name": "stdout",
     "output_type": "stream",
     "text": [
      "50\n",
      "52\n",
      "54\n",
      "56\n",
      "58\n",
      "60\n",
      "62\n",
      "64\n",
      "66\n",
      "68\n"
     ]
    }
   ],
   "source": [
    "# two numbers m and n, print all even numbers in between then\n",
    "m = int(input()) # 50\n",
    "n = int(input()) # 69\n",
    "\n",
    "while m <= n: \n",
    "    if m % 2 == 0:\n",
    "        print(m)\n",
    "    m = m + 1"
   ]
  },
  {
   "cell_type": "code",
   "execution_count": 10,
   "metadata": {},
   "outputs": [
    {
     "name": "stdout",
     "output_type": "stream",
     "text": [
      "21\n",
      "23\n",
      "25\n",
      "27\n",
      "29\n"
     ]
    }
   ],
   "source": [
    "m = 20\n",
    "n = 30\n",
    "\n",
    "while m <= n:\n",
    "    if m % 2 != 0:\n",
    "        print(m)\n",
    "    m += 1"
   ]
  },
  {
   "cell_type": "code",
   "execution_count": 12,
   "metadata": {},
   "outputs": [
    {
     "name": "stdout",
     "output_type": "stream",
     "text": [
      "7541\n"
     ]
    }
   ],
   "source": [
    "n = 1457\n",
    "rev = 0\n",
    "\n",
    "while n > 0: # n = 0 > 0\n",
    "    rem = n % 10 # rem = 1\n",
    "    rev = rev * 10 + rem # (754 * 10) + 1 | rev = 7541\n",
    "    n = n // 10 # n = 0\n",
    "\n",
    "print(rev) # 7541"
   ]
  },
  {
   "cell_type": "code",
   "execution_count": 25,
   "metadata": {},
   "outputs": [
    {
     "name": "stdout",
     "output_type": "stream",
     "text": [
      "2\n",
      "3\n",
      "4\n",
      "5\n",
      "6\n"
     ]
    }
   ],
   "source": [
    "# print all the elements in a list abd print all the even nums only\n",
    "\n",
    "arr = [2, 3, 4, 5, 6]\n",
    "\n",
    "start = 0\n",
    "end = len(arr) - 1\n",
    "\n",
    "while start <= end:\n",
    "    print(arr[start])\n",
    "    start += 1"
   ]
  },
  {
   "cell_type": "code",
   "execution_count": null,
   "metadata": {},
   "outputs": [],
   "source": [
    "# print all the numbers from 1 to 100, which are divisible by 5\n",
    "\n",
    "n = 1\n",
    "\n",
    "while n < 100:\n",
    "    if n % 5 == 0:\n",
    "        print(n)\n",
    "    n += 1"
   ]
  },
  {
   "cell_type": "code",
   "execution_count": 27,
   "metadata": {},
   "outputs": [
    {
     "name": "stdout",
     "output_type": "stream",
     "text": [
      "10\n",
      "8\n",
      "6\n",
      "4\n"
     ]
    }
   ],
   "source": [
    "# print all even numbers\n",
    "arr = [10, 9, 8, 7, 6, 5, 4, 3]\n",
    "start = 0\n",
    "end = len(arr) - 1\n",
    "\n",
    "while start <= end:\n",
    "    if arr[start] % 2 == 0:\n",
    "        print(arr[start])\n",
    "    start += 1"
   ]
  },
  {
   "cell_type": "code",
   "execution_count": 33,
   "metadata": {},
   "outputs": [
    {
     "name": "stdout",
     "output_type": "stream",
     "text": [
      "this is armstrong\n"
     ]
    }
   ],
   "source": [
    "# Armstrong number\n",
    "# 135 = 1 ** 3 + 3 ** 3 + 5 ** 3\n",
    "# 153 = 1 ** 3 + 5 ** 3 + 3 ** 3\n",
    "\n",
    "n = 153\n",
    "res = 0\n",
    "temp = n\n",
    "\n",
    "while n > 0:\n",
    "    rem = n % 10\n",
    "    res = res + rem ** 3\n",
    "    n =n // 10\n",
    "\n",
    "if res == temp:\n",
    "    print('this is armstrong')\n",
    "else:\n",
    "    print('this is not')"
   ]
  },
  {
   "cell_type": "code",
   "execution_count": 37,
   "metadata": {},
   "outputs": [
    {
     "name": "stdout",
     "output_type": "stream",
     "text": [
      "pallindroe\n"
     ]
    }
   ],
   "source": [
    "# pallindrome\n",
    "# if a number is equal to its reversed value , then it is a pallindrome\n",
    "# 121 = 121\n",
    "# 432 != 234 , not\n",
    "n = 141\n",
    "temp = n\n",
    "rev = 0\n",
    "\n",
    "while n > 0: # n = 0 > 0\n",
    "    rem = n % 10 # rem = 1\n",
    "    rev = rev * 10 + rem # (754 * 10) + 1 | rev = 7541\n",
    "    n = n // 10 # n = 0\n",
    "\n",
    "if rev == temp:\n",
    "    print('pallindroe')\n",
    "else:\n",
    "    print('it is not')"
   ]
  },
  {
   "cell_type": "code",
   "execution_count": 53,
   "metadata": {},
   "outputs": [
    {
     "name": "stdout",
     "output_type": "stream",
     "text": [
      "pallindrome\n"
     ]
    }
   ],
   "source": [
    "# arr = 'MSys'\n",
    "# arr[::-1]\n",
    "\n",
    "n = 131\n",
    "\n",
    "s = str(n)\n",
    "\n",
    "if s == s[::-1]:\n",
    "    print('pallindrome')\n",
    "else:\n",
    "    print('not pallindrome')"
   ]
  },
  {
   "cell_type": "code",
   "execution_count": 64,
   "metadata": {},
   "outputs": [
    {
     "name": "stdout",
     "output_type": "stream",
     "text": [
      "1 121 12321 1234321\n"
     ]
    }
   ],
   "source": [
    "n = int(input())\n",
    "s = lambda n: ''.join([str(i) for i in range(1, n + 1)] + [str(i) for i in range(n -1, 0, -1)])\n",
    "print(' '.join(map(s, range(1, n + 1))))\n"
   ]
  },
  {
   "cell_type": "code",
   "execution_count": 87,
   "metadata": {},
   "outputs": [
    {
     "name": "stdout",
     "output_type": "stream",
     "text": [
      "1\n"
     ]
    }
   ],
   "source": [
    "s = input()\n",
    "\n",
    "res = {}\n",
    "for i, _ in enumerate(s):\n",
    "    for j, _ in enumerate(s[i+1:]):\n",
    "        temp = s[i:j]\n",
    "        if len(temp) == len(set(temp)):\n",
    "            res[temp] = len(temp)\n",
    "\n",
    "print(max(res.values()))"
   ]
  },
  {
   "cell_type": "code",
   "execution_count": 99,
   "metadata": {},
   "outputs": [
    {
     "name": "stdout",
     "output_type": "stream",
     "text": [
      "10\n"
     ]
    }
   ],
   "source": [
    "import math\n",
    "\n",
    "\n",
    "x = int(input())\n",
    "y = int(input())\n",
    "res = []\n",
    "\n",
    "def is_prime(n):\n",
    "    if n < 2:\n",
    "        return False\n",
    "    for i in range(2, int(math.sqrt(n) + 1)):\n",
    "        if n % i == 0:\n",
    "            return False\n",
    "    return True\n",
    "\n",
    "for i in range(x, y + 1):\n",
    "    if is_prime(i):\n",
    "        res.append(i)\n",
    "\n",
    "print(sum(res))"
   ]
  },
  {
   "cell_type": "code",
   "execution_count": 15,
   "metadata": {},
   "outputs": [
    {
     "name": "stdout",
     "output_type": "stream",
     "text": [
      "3\n",
      "34\n",
      "345\n",
      "3451\n",
      "3451\n"
     ]
    }
   ],
   "source": [
    "n = 1543\n",
    "\n",
    "res = 0\n",
    "\n",
    "while n > 0:\n",
    "    m = n % 10\n",
    "    res = res * 10 + m\n",
    "    print(res)\n",
    "    n = n // 10\n",
    "\n",
    "print(res)"
   ]
  },
  {
   "cell_type": "code",
   "execution_count": 20,
   "metadata": {},
   "outputs": [
    {
     "name": "stdout",
     "output_type": "stream",
     "text": [
      "edcba\n"
     ]
    }
   ],
   "source": [
    "s = 'abcde'\n",
    "res = ''\n",
    "\n",
    "i = 0\n",
    "\n",
    "while i < len(s):\n",
    "    res = s[i] + res\n",
    "    i = i + 1\n",
    "\n",
    "\n",
    "print(res)  # 'edcba'"
   ]
  },
  {
   "cell_type": "code",
   "execution_count": null,
   "metadata": {},
   "outputs": [],
   "source": [
    "# wap to check if a number is prime number or not , n >= 2\n",
    "\n",
    "n = 13\n",
    "\n",
    "i = 2\n",
    "flag = True\n",
    "while i < n:\n",
    "    if n % i == 0:\n",
    "        flag = True"
   ]
  },
  {
   "cell_type": "code",
   "execution_count": 23,
   "metadata": {},
   "outputs": [
    {
     "data": {
      "text/plain": [
       "True"
      ]
     },
     "execution_count": 23,
     "metadata": {},
     "output_type": "execute_result"
    }
   ],
   "source": [
    "15 % 5 == 0"
   ]
  },
  {
   "cell_type": "code",
   "execution_count": 29,
   "metadata": {},
   "outputs": [
    {
     "name": "stdout",
     "output_type": "stream",
     "text": [
      "True\n",
      "False\n",
      "False\n",
      "False\n",
      "True\n"
     ]
    }
   ],
   "source": [
    "n = 93\n",
    "print(n % 1 == 0)\n",
    "print(n % 2 == 0)\n",
    "print(n % 3 == 0)\n",
    "print(n % 4 == 0)\n",
    "print(n % 5 == 0)"
   ]
  },
  {
   "cell_type": "code",
   "execution_count": null,
   "metadata": {},
   "outputs": [],
   "source": [
    "i = 1\n",
    "while i < 101:\n",
    "    print(i)\n",
    "    if i == 50:\n",
    "        break\n",
    "    i  = i + 1\n",
    "\n",
    "print('executed')"
   ]
  },
  {
   "cell_type": "code",
   "execution_count": null,
   "metadata": {},
   "outputs": [],
   "source": [
    "# print 1 to 20, but break when n is divisible by both 5 and 3\n",
    "\n",
    "i = 1\n",
    "\n",
    "while i < 20:\n",
    "    print(i)\n",
    "\n",
    "    if i % 5 == 0 and i % 3 == 0:\n",
    "        continue\n",
    "\n",
    "    i = i + 1"
   ]
  },
  {
   "cell_type": "code",
   "execution_count": 52,
   "metadata": {},
   "outputs": [
    {
     "name": "stdout",
     "output_type": "stream",
     "text": [
      "27\n"
     ]
    }
   ],
   "source": [
    "# print the sum of numbers from 1 to 20, but dont calculate from 5 to 10\n",
    "\n",
    "i = 0\n",
    "res = 0\n",
    "\n",
    "while i < 10: # 10 < 10\n",
    "    if i >= 5 and i < 8: # 9 >= 5 and 9 < 8\n",
    "        i = i + 1 # 5 + 1 = 6 + 1 = 7 + 1= 8\n",
    "        continue\n",
    "    res = res + i # 6 + 4 = 10 + 8 + 9 = 27\n",
    "    i = i + 1 # 4 + 1 = 5 .. 8 + 1 = 9 + 1 = 10\n",
    "\n",
    "print(res) # 2"
   ]
  },
  {
   "cell_type": "code",
   "execution_count": 41,
   "metadata": {},
   "outputs": [
    {
     "data": {
      "text/plain": [
       "False"
      ]
     },
     "execution_count": 41,
     "metadata": {},
     "output_type": "execute_result"
    }
   ],
   "source": [
    "5 <= 2 < 8"
   ]
  },
  {
   "cell_type": "code",
   "execution_count": 56,
   "metadata": {},
   "outputs": [
    {
     "name": "stdout",
     "output_type": "stream",
     "text": [
      "2\n",
      "4\n",
      "6\n",
      "8\n",
      "10\n"
     ]
    }
   ],
   "source": [
    "# print all the even numbers between 1 to 10\n",
    "\n",
    "i = 1\n",
    "while i <= 10: # 11 <= 10\n",
    "    if i % 2 == 1: # 10 % 2 == 1\n",
    "        i = i + 1 # 10\n",
    "        continue\n",
    "    print(i)\n",
    "    i = i + 1 # 11"
   ]
  },
  {
   "cell_type": "code",
   "execution_count": 63,
   "metadata": {},
   "outputs": [
    {
     "name": "stdout",
     "output_type": "stream",
     "text": [
      "10\n",
      "True\n"
     ]
    }
   ],
   "source": [
    "if 10 % 2 == 0:\n",
    "    # comment\n",
    "    print(10)\n",
    "\n",
    "print(True)"
   ]
  },
  {
   "cell_type": "code",
   "execution_count": 67,
   "metadata": {},
   "outputs": [
    {
     "ename": "IndentationError",
     "evalue": "expected an indented block after function definition on line 1 (1083687467.py, line 4)",
     "output_type": "error",
     "traceback": [
      "\u001b[1;36m  Input \u001b[1;32mIn [67]\u001b[1;36m\u001b[0m\n\u001b[1;33m    display()\u001b[0m\n\u001b[1;37m    ^\u001b[0m\n\u001b[1;31mIndentationError\u001b[0m\u001b[1;31m:\u001b[0m expected an indented block after function definition on line 1\n"
     ]
    }
   ],
   "source": [
    "def display():\n",
    "    pass\n",
    "\n",
    "display()"
   ]
  },
  {
   "cell_type": "code",
   "execution_count": 4,
   "metadata": {},
   "outputs": [
    {
     "name": "stdout",
     "output_type": "stream",
     "text": [
      "not a prime\n"
     ]
    }
   ],
   "source": [
    "n=int(input()) # 16\n",
    "i=2\n",
    "fac=0\n",
    "while i < n: # 4 < 4\n",
    "    if n % i ==0: # 4 % 3 == 0\n",
    "        fac=1\n",
    "    i=i+1 # 4\n",
    "if fac==0:\n",
    "    print(\"prime number\")\n",
    "else:\n",
    "    print(\"not a prime\")\n",
    "\n"
   ]
  },
  {
   "cell_type": "code",
   "execution_count": 9,
   "metadata": {},
   "outputs": [
    {
     "name": "stdout",
     "output_type": "stream",
     "text": [
      "Prime\n"
     ]
    }
   ],
   "source": [
    "import math\n",
    "n = int(input()) #113\n",
    "\n",
    "i = 2\n",
    "is_prime = True\n",
    "\n",
    "while i < math.sqrt(n) : # 2 < 100\n",
    "    if n % i == 0: # 100 % 2 == 0\n",
    "        is_prime = False\n",
    "        break\n",
    "    i = i + 1\n",
    "\n",
    "if is_prime:\n",
    "    print(\"Prime\")\n",
    "else:\n",
    "    print(\"not Prime\")"
   ]
  },
  {
   "cell_type": "code",
   "execution_count": 13,
   "metadata": {},
   "outputs": [
    {
     "data": {
      "text/plain": [
       "[9, 8, 7, 6, 5, 4]"
      ]
     },
     "execution_count": 13,
     "metadata": {},
     "output_type": "execute_result"
    }
   ],
   "source": [
    "arr = [1, 2, 3, 4, 5, 6, 7, 8, 9]\n",
    "\n",
    "# arr[1:6]\n",
    "# ! start < end\n",
    "# arr[6:1:-1]\n",
    "arr[8:2:-1]\n",
    "#! start > end "
   ]
  },
  {
   "cell_type": "code",
   "execution_count": 12,
   "metadata": {},
   "outputs": [
    {
     "ename": "SyntaxError",
     "evalue": "cannot assign to expression here. Maybe you meant '==' instead of '='? (700090735.py, line 4)",
     "output_type": "error",
     "traceback": [
      "\u001b[1;36m  Input \u001b[1;32mIn [12]\u001b[1;36m\u001b[0m\n\u001b[1;33m    end - 1 = 2\u001b[0m\n\u001b[1;37m    ^\u001b[0m\n\u001b[1;31mSyntaxError\u001b[0m\u001b[1;31m:\u001b[0m cannot assign to expression here. Maybe you meant '==' instead of '='?\n"
     ]
    }
   ],
   "source": [
    "arr[start: end + 1: 1]\n",
    "arr[start: end - 1: -1]\n",
    "\n",
    "# end - 1 = 2\n",
    "# end = 3"
   ]
  },
  {
   "cell_type": "code",
   "execution_count": 16,
   "metadata": {},
   "outputs": [
    {
     "data": {
      "text/plain": [
       "False"
      ]
     },
     "execution_count": 16,
     "metadata": {},
     "output_type": "execute_result"
    }
   ],
   "source": [
    "arr\n",
    "\n",
    "10 in arr"
   ]
  },
  {
   "cell_type": "code",
   "execution_count": null,
   "metadata": {},
   "outputs": [],
   "source": [
    "# val in collection"
   ]
  },
  {
   "cell_type": "code",
   "execution_count": 17,
   "metadata": {},
   "outputs": [
    {
     "name": "stdout",
     "output_type": "stream",
     "text": [
      "1\n",
      "2\n",
      "3\n",
      "4\n",
      "5\n"
     ]
    }
   ],
   "source": [
    "arr = [1, 2, 3, 4, 5]\n",
    "\n",
    "i = 0\n",
    "n = len(arr)\n",
    "\n",
    "while i < n:\n",
    "    print(arr[i])\n",
    "    i += 1"
   ]
  },
  {
   "cell_type": "code",
   "execution_count": 18,
   "metadata": {},
   "outputs": [
    {
     "name": "stdout",
     "output_type": "stream",
     "text": [
      "1\n",
      "2\n",
      "3\n",
      "4\n",
      "5\n"
     ]
    }
   ],
   "source": [
    "for i in arr:\n",
    "    print(i)"
   ]
  },
  {
   "cell_type": "code",
   "execution_count": 20,
   "metadata": {},
   "outputs": [
    {
     "name": "stdout",
     "output_type": "stream",
     "text": [
      "8\n",
      "6\n",
      "2\n"
     ]
    }
   ],
   "source": [
    "arr = [5, 9, 8, 6, 3, 2, 1]\n",
    "\n",
    "for i in arr:\n",
    "    if i % 2 == 0:\n",
    "        print(i)"
   ]
  },
  {
   "cell_type": "code",
   "execution_count": 23,
   "metadata": {},
   "outputs": [
    {
     "name": "stdout",
     "output_type": "stream",
     "text": [
      "[8, 6, 2]\n",
      "[5, 9, 3, 1]\n"
     ]
    }
   ],
   "source": [
    "even = []\n",
    "odd = []\n",
    "for i in arr:\n",
    "    if i % 2 == 0:\n",
    "        even.append(i)\n",
    "    else:\n",
    "        odd.append(i)\n",
    "print(even)\n",
    "print(odd)"
   ]
  },
  {
   "cell_type": "code",
   "execution_count": 24,
   "metadata": {},
   "outputs": [
    {
     "name": "stdout",
     "output_type": "stream",
     "text": [
      "[1, 2, 3] [-1, -5, -8]\n"
     ]
    }
   ],
   "source": [
    "arr = [1, 2, 3, -1, -5, -8]\n",
    "p = []\n",
    "n = []\n",
    "\n",
    "for i in arr:\n",
    "    if i > 0:\n",
    "        p.append(i)\n",
    "    else:\n",
    "        n.append(i)\n",
    "print(p, n)"
   ]
  },
  {
   "cell_type": "code",
   "execution_count": 25,
   "metadata": {},
   "outputs": [],
   "source": [
    "l = [1, 2, 3, 4]\n",
    "t = (10, 20, 30, 40)\n",
    "st = 'MSys'\n",
    "s = {'a', 'b', 'c'}\n",
    "d = {1: True, 2: 100, 3: 'abc'}"
   ]
  },
  {
   "cell_type": "code",
   "execution_count": 60,
   "metadata": {},
   "outputs": [
    {
     "name": "stdout",
     "output_type": "stream",
     "text": [
      "at index 0 value is\n",
      "at index 1 value is\n",
      "at index 2 value is\n"
     ]
    }
   ],
   "source": [
    "# print('at index', 0, 'value is', 1)\n",
    "# print('at index', 1, 'value is' ,2)\n",
    "# print('at index', 2, 'value is' ,3)\n",
    "# print('at index', 3, 'value is' ,4)\n",
    "for i in range(0, len(s)):\n",
    "    print('at index', i, 'value is')"
   ]
  },
  {
   "cell_type": "code",
   "execution_count": 41,
   "metadata": {},
   "outputs": [
    {
     "data": {
      "text/plain": [
       "dict_items([(1, True), (2, 100), (3, 'abc')])"
      ]
     },
     "execution_count": 41,
     "metadata": {},
     "output_type": "execute_result"
    }
   ],
   "source": [
    "d.items()"
   ]
  },
  {
   "cell_type": "code",
   "execution_count": 48,
   "metadata": {},
   "outputs": [
    {
     "name": "stdout",
     "output_type": "stream",
     "text": [
      "[1, 2, 3, 4, 5, 6, 7, 8, 9, 10, 11, 12, 13, 14, 15, 16, 17, 18, 19, 20, 21, 22, 23, 24, 25, 26, 27, 28, 29, 30, 31, 32, 33, 34, 35, 36, 37, 38, 39, 40, 41, 42, 43, 44, 45, 46, 47, 48, 49, 50, 51, 52, 53, 54, 55, 56, 57, 58, 59, 60, 61, 62, 63, 64, 65, 66, 67, 68, 69, 70, 71, 72, 73, 74, 75, 76, 77, 78, 79, 80, 81, 82, 83, 84, 85, 86, 87, 88, 89, 90, 91, 92, 93, 94, 95, 96, 97, 98, 99, 100]\n"
     ]
    }
   ],
   "source": [
    "print(list(range(1, 101)))"
   ]
  },
  {
   "cell_type": "code",
   "execution_count": 51,
   "metadata": {},
   "outputs": [
    {
     "name": "stdout",
     "output_type": "stream",
     "text": [
      "[5, 8, 11, 14, 17, 20, 23, 26, 29, 32, 35, 38, 41, 44, 47, 50, 53, 56, 59, 62, 65, 68, 71, 74, 77, 80, 83, 86, 89, 92, 95, 98, 101, 104, 107, 110, 113, 116, 119, 122, 125, 128, 131, 134, 137, 140, 143, 146, 149, 152, 155, 158, 161, 164, 167, 170, 173, 176, 179, 182, 185, 188, 191, 194, 197, 200, 203, 206, 209, 212, 215, 218, 221, 224, 227, 230, 233, 236, 239, 242, 245, 248, 251, 254, 257, 260, 263, 266, 269, 272, 275, 278, 281, 284, 287, 290, 293, 296, 299, 302, 305, 308, 311, 314, 317, 320, 323, 326, 329, 332, 335, 338, 341, 344, 347, 350, 353, 356, 359, 362, 365, 368, 371, 374, 377, 380, 383, 386, 389, 392, 395, 398, 401, 404, 407, 410, 413, 416, 419, 422, 425, 428, 431, 434, 437, 440, 443, 446, 449, 452, 455, 458, 461, 464, 467, 470, 473, 476, 479, 482, 485, 488, 491, 494, 497, 500]\n"
     ]
    }
   ],
   "source": [
    "print(list(range(5, 501, 3)))"
   ]
  },
  {
   "cell_type": "code",
   "execution_count": 52,
   "metadata": {},
   "outputs": [
    {
     "name": "stdout",
     "output_type": "stream",
     "text": [
      "(0, 5, 10, 15, 20, 25, 30, 35, 40, 45, 50, 55, 60, 65, 70, 75, 80, 85, 90, 95)\n"
     ]
    }
   ],
   "source": [
    "print(tuple(range(0, 100, 5)))"
   ]
  },
  {
   "cell_type": "code",
   "execution_count": 53,
   "metadata": {},
   "outputs": [
    {
     "name": "stdout",
     "output_type": "stream",
     "text": [
      "[100, 99, 98, 97, 96, 95, 94, 93, 92, 91, 90, 89, 88, 87, 86, 85, 84, 83, 82, 81, 80, 79, 78, 77, 76, 75, 74, 73, 72, 71, 70, 69, 68, 67, 66, 65, 64, 63, 62, 61, 60, 59, 58, 57, 56, 55, 54, 53, 52, 51, 50, 49, 48, 47, 46, 45, 44, 43, 42, 41, 40, 39, 38, 37, 36, 35, 34, 33, 32, 31, 30, 29, 28, 27, 26, 25, 24, 23, 22, 21, 20, 19, 18, 17, 16, 15, 14, 13, 12, 11, 10, 9, 8, 7, 6, 5, 4, 3, 2, 1]\n"
     ]
    }
   ],
   "source": [
    "print(list(range(100, 0, -1)))"
   ]
  },
  {
   "cell_type": "code",
   "execution_count": 57,
   "metadata": {},
   "outputs": [
    {
     "data": {
      "text/plain": [
       "True"
      ]
     },
     "execution_count": 57,
     "metadata": {},
     "output_type": "execute_result"
    }
   ],
   "source": [
    "9 in range(1, 10)"
   ]
  },
  {
   "cell_type": "code",
   "execution_count": 72,
   "metadata": {},
   "outputs": [
    {
     "name": "stdout",
     "output_type": "stream",
     "text": [
      "16\n",
      "81\n",
      "25\n",
      "4\n",
      "36\n"
     ]
    }
   ],
   "source": [
    "arr = [4, 10, 9, 11, 5, 4, 2, 8, 6]\n",
    "\n",
    "for i in range(0, len(arr)):\n",
    "    if i % 2 == 0 :\n",
    "        print(arr[i] ** 2)\n"
   ]
  },
  {
   "cell_type": "code",
   "execution_count": 5,
   "metadata": {},
   "outputs": [
    {
     "name": "stdout",
     "output_type": "stream",
     "text": [
      "2\n"
     ]
    }
   ],
   "source": [
    "# WAP to count the nuber of perticular elment from collection\n",
    "\n",
    "s = 'MSys is a company'\n",
    "char = 's'\n",
    "\n",
    "count = 0\n",
    "\n",
    "for i in s:\n",
    "    if i == char:\n",
    "        count += 1\n",
    "\n",
    "print(count)"
   ]
  },
  {
   "cell_type": "code",
   "execution_count": 9,
   "metadata": {},
   "outputs": [
    {
     "name": "stdout",
     "output_type": "stream",
     "text": [
      "upper\n"
     ]
    },
    {
     "data": {
      "text/plain": [
       "True"
      ]
     },
     "execution_count": 9,
     "metadata": {},
     "output_type": "execute_result"
    }
   ],
   "source": [
    "c = 'A'\n",
    "\n",
    "if 'A' <= c <= 'Z':\n",
    "    print('upper')\n",
    "\n",
    "# v= \"aeiou\"\n",
    "# 'a' in v"
   ]
  },
  {
   "cell_type": "code",
   "execution_count": 11,
   "metadata": {},
   "outputs": [
    {
     "name": "stdout",
     "output_type": "stream",
     "text": [
      "{'upper': 2, 'lower': 12, 'space': 3}\n"
     ]
    }
   ],
   "source": [
    "# from agiven string count the no of uppercase, lowecase and spaces\n",
    "s = 'MSys is a company'\n",
    "\n",
    "res = {'upper':0, 'lower':0, 'space':0}\n",
    "\n",
    "for  i in s:\n",
    "    if i == ' ':\n",
    "        res['space'] += 1\n",
    "    elif 'A' <= i <= 'Z':\n",
    "        res['upper'] = res['upper'] + 1\n",
    "    elif 'a' <= i <= 'z':\n",
    "        res['lower'] = res['lower'] + 1\n",
    "\n",
    "print(res)"
   ]
  },
  {
   "cell_type": "code",
   "execution_count": 31,
   "metadata": {},
   "outputs": [
    {
     "name": "stdout",
     "output_type": "stream",
     "text": [
      "{}\n",
      "{1: 1}\n",
      "{1: 1, 2: 1}\n",
      "{1: 1, 2: 1, 3: 1}\n",
      "{1: 2, 2: 1, 3: 1}\n",
      "{1: 2, 2: 1, 3: 1, 10: 1}\n",
      "1 is present for 2 times\n",
      "2 is present for 1 times\n",
      "3 is present for 1 times\n",
      "10 is present for 1 times\n"
     ]
    }
   ],
   "source": [
    "# from a given list, print how many times each element repeated\n",
    "arr = [1, 2, 3, 1, 10]\n",
    "\n",
    "res = {}\n",
    "print(res)\n",
    "\n",
    "for i in arr: # i = 10\n",
    "    if i in res:\n",
    "        res[i] = res[i] + 1\n",
    "    else:\n",
    "        res[i] = 1\n",
    "\n",
    "for key, value in res.items():\n",
    "    print(key, 'is present for', value, 'times')\n"
   ]
  },
  {
   "cell_type": "code",
   "execution_count": 33,
   "metadata": {},
   "outputs": [
    {
     "name": "stdout",
     "output_type": "stream",
     "text": [
      "+ve numbers [1, 2, 8, 7]\n",
      "-ve numbers [-1, -3, -5, -10]\n"
     ]
    }
   ],
   "source": [
    "# factorial of a number\n",
    "# # fibonacii series\n",
    "\n",
    "arr = [-1, -3, 1, -5, 2, -10, 8, 7]\n",
    "\n",
    "p = []\n",
    "n = []\n",
    "\n",
    "for i in arr:\n",
    "    if i > 0:\n",
    "        p.append(i)\n",
    "    else:\n",
    "        n.append(i)\n",
    "\n",
    "print('+ve numbers', p)\n",
    "print('-ve numbers', n)"
   ]
  },
  {
   "cell_type": "code",
   "execution_count": 10,
   "metadata": {},
   "outputs": [
    {
     "name": "stdout",
     "output_type": "stream",
     "text": [
      "1 a\n",
      "1 b\n",
      "loop 1 completed\n",
      "2 a\n",
      "2 b\n",
      "loop 2 completed\n",
      "3 a\n",
      "3 b\n",
      "loop 3 completed\n",
      "4 a\n",
      "4 b\n",
      "executed\n"
     ]
    }
   ],
   "source": [
    "a = [1, 2, 3, 4, 5]\n",
    "s = 'abc'\n",
    "\n",
    "for i in a:  # i = 4\n",
    "    for j in s: # j = 'c'\n",
    "        if j == 'c':\n",
    "            break\n",
    "        print(i, j)\n",
    "        \n",
    "\n",
    "    if i == 4 :\n",
    "        break\n",
    "\n",
    "    print(f'loop {i} completed')\n",
    "\n",
    "print('executed')"
   ]
  },
  {
   "cell_type": "code",
   "execution_count": 3,
   "metadata": {},
   "outputs": [
    {
     "name": "stdout",
     "output_type": "stream",
     "text": [
      "5\n",
      "4\n",
      "3\n",
      "2\n",
      "1\n"
     ]
    }
   ],
   "source": [
    "\n",
    "\n",
    "start = 5\n",
    "end = 1\n",
    "\n",
    "for i in range(start, end - 1, -1):\n",
    "    print(i)"
   ]
  },
  {
   "cell_type": "code",
   "execution_count": 7,
   "metadata": {},
   "outputs": [
    {
     "data": {
      "text/plain": [
       "[45, 44, 43, 42, 41, 40, 39]"
      ]
     },
     "execution_count": 7,
     "metadata": {},
     "output_type": "execute_result"
    }
   ],
   "source": [
    "# list(range(-10, 10, 1))\n",
    "\n",
    "list(range(45, 38, -1))"
   ]
  },
  {
   "cell_type": "code",
   "execution_count": 5,
   "metadata": {},
   "outputs": [
    {
     "data": {
      "text/plain": [
       "-35"
      ]
     },
     "execution_count": 5,
     "metadata": {},
     "output_type": "execute_result"
    }
   ],
   "source": [
    "-34-1"
   ]
  },
  {
   "cell_type": "code",
   "execution_count": 16,
   "metadata": {},
   "outputs": [
    {
     "name": "stdout",
     "output_type": "stream",
     "text": [
      "30\n"
     ]
    }
   ],
   "source": [
    "count = 0\n",
    "\n",
    "for _ in range(6):\n",
    "    for j in range(5):\n",
    "        count += 1\n",
    "\n",
    "print(count)"
   ]
  },
  {
   "cell_type": "code",
   "execution_count": 34,
   "metadata": {},
   "outputs": [
    {
     "name": "stdout",
     "output_type": "stream",
     "text": [
      "5\n"
     ]
    }
   ],
   "source": [
    "arr = [1, 2, 3, 4, 5, 5]\n",
    "# r = 0\n",
    "# for i in arr:\n",
    "#     if arr.count(i) > 1:\n",
    "#         r = i\n",
    "#         break\n",
    "# print(r)\n",
    "\n",
    "# for i in range(0, len(arr)):    \n",
    "#     for j in range(i+1, len(arr)):    \n",
    "#         if(arr[i] == arr[j]):    \n",
    "            # print(arr[j])\n",
    "\n",
    "res = {}\n",
    "# print(res)\n",
    "\n",
    "for i in arr: \n",
    "    if i in res:\n",
    "        res[i] = res[i] + 1\n",
    "    else:\n",
    "        res[i] = 1\n",
    "\n",
    "for k, v in res.items():\n",
    "    if v > 1:\n",
    "        print(k)\n",
    "        break\n",
    "\n",
    "# print(r) # 5"
   ]
  },
  {
   "cell_type": "code",
   "execution_count": 33,
   "metadata": {},
   "outputs": [
    {
     "name": "stdout",
     "output_type": "stream",
     "text": [
      "1 1\n",
      "2 1\n",
      "3 1\n",
      "4 1\n",
      "5 2\n"
     ]
    }
   ],
   "source": [
    "for k, v in res.items():\n",
    "    print(k, v)"
   ]
  },
  {
   "cell_type": "code",
   "execution_count": 28,
   "metadata": {},
   "outputs": [
    {
     "name": "stdout",
     "output_type": "stream",
     "text": [
      "1 2 3\n"
     ]
    }
   ],
   "source": [
    "# tuple unpacking\n",
    "a, b, c = (1, 2, 3)\n",
    "print(a, b, c)"
   ]
  },
  {
   "cell_type": "code",
   "execution_count": 29,
   "metadata": {},
   "outputs": [
    {
     "name": "stdout",
     "output_type": "stream",
     "text": [
      "a b\n"
     ]
    }
   ],
   "source": [
    "x = ('a', 'b')\n",
    "\n",
    "p, q = x\n",
    "print(p, q)"
   ]
  },
  {
   "cell_type": "code",
   "execution_count": 38,
   "metadata": {},
   "outputs": [
    {
     "name": "stdout",
     "output_type": "stream",
     "text": [
      "4\n"
     ]
    }
   ],
   "source": [
    "arr = [1, 2, 1, 3, 2, 4, 3]\n",
    "\n",
    "res={}\n",
    "for i in arr:\n",
    "    if i in res:\n",
    "        res[i] = res[i] + 1\n",
    "    else:\n",
    "        res[i] = 1\n",
    "\n",
    "for k,v in res.items():\n",
    "    if v == 1:\n",
    "        print(k)\n",
    "\n",
    "# print(res) # 4"
   ]
  },
  {
   "cell_type": "code",
   "execution_count": 57,
   "metadata": {},
   "outputs": [
    {
     "name": "stdout",
     "output_type": "stream",
     "text": [
      "5\n"
     ]
    }
   ],
   "source": [
    "arr = [1, 2, 1, 3, 2, 4, 3]\n",
    "\n",
    "res = 0\n",
    "\n",
    "for i in arr: # i = 1\n",
    "    res = res ^ i # res = 0 ^ 1 = 2\n",
    "\n",
    "print(res)"
   ]
  },
  {
   "cell_type": "code",
   "execution_count": 44,
   "metadata": {},
   "outputs": [
    {
     "name": "stdout",
     "output_type": "stream",
     "text": [
      "10 0\n"
     ]
    }
   ],
   "source": [
    "print(10 ^ 0, 10 ^ 10)"
   ]
  },
  {
   "cell_type": "code",
   "execution_count": 46,
   "metadata": {},
   "outputs": [
    {
     "name": "stdout",
     "output_type": "stream",
     "text": [
      "0\n",
      "1010\n"
     ]
    }
   ],
   "source": [
    "print(bin(0)[2:])\n",
    "print(bin(10)[2:])"
   ]
  },
  {
   "cell_type": "code",
   "execution_count": 47,
   "metadata": {},
   "outputs": [],
   "source": [
    "# 10 ^ 10\n",
    "# 1010\n",
    "# 1010\n",
    "\n",
    "# 0000"
   ]
  },
  {
   "cell_type": "code",
   "execution_count": 52,
   "metadata": {},
   "outputs": [
    {
     "data": {
      "text/plain": [
       "6"
      ]
     },
     "execution_count": 52,
     "metadata": {},
     "output_type": "execute_result"
    }
   ],
   "source": [
    "6 ^ 0"
   ]
  },
  {
   "cell_type": "code",
   "execution_count": 54,
   "metadata": {},
   "outputs": [
    {
     "data": {
      "text/plain": [
       "0"
      ]
     },
     "execution_count": 54,
     "metadata": {},
     "output_type": "execute_result"
    }
   ],
   "source": [
    "15 ^ 15"
   ]
  },
  {
   "cell_type": "code",
   "execution_count": 3,
   "metadata": {},
   "outputs": [],
   "source": [
    "x, y, z = 1, 2, 3"
   ]
  },
  {
   "cell_type": "code",
   "execution_count": 4,
   "metadata": {},
   "outputs": [
    {
     "name": "stdout",
     "output_type": "stream",
     "text": [
      "1 2 3\n"
     ]
    }
   ],
   "source": [
    "print(x, y, z)"
   ]
  },
  {
   "cell_type": "code",
   "execution_count": 5,
   "metadata": {},
   "outputs": [],
   "source": [
    "def foo():\n",
    "    return (10, 'MSys')"
   ]
  },
  {
   "cell_type": "code",
   "execution_count": 9,
   "metadata": {},
   "outputs": [],
   "source": [
    "d = {1: 'a', 2:'b', 3:'c'}"
   ]
  },
  {
   "cell_type": "code",
   "execution_count": 14,
   "metadata": {},
   "outputs": [
    {
     "data": {
      "text/plain": [
       "dict_items([(1, 'a'), (2, 'b'), (3, 'c')])"
      ]
     },
     "execution_count": 14,
     "metadata": {},
     "output_type": "execute_result"
    }
   ],
   "source": [
    "d\n",
    "d.items()\n",
    "# d.keys()\n",
    "# d.values()"
   ]
  },
  {
   "cell_type": "code",
   "execution_count": null,
   "metadata": {},
   "outputs": [],
   "source": [
    "for k, v in d.items():\n",
    "    print(10 + k)\n",
    "    print(k, v)"
   ]
  },
  {
   "cell_type": "code",
   "execution_count": 21,
   "metadata": {},
   "outputs": [],
   "source": [
    "a = [10, 20, 30, 40, 50]"
   ]
  },
  {
   "cell_type": "code",
   "execution_count": 22,
   "metadata": {},
   "outputs": [
    {
     "data": {
      "text/plain": [
       "[(0, 10), (1, 20), (2, 30), (3, 40), (4, 50)]"
      ]
     },
     "execution_count": 22,
     "metadata": {},
     "output_type": "execute_result"
    }
   ],
   "source": [
    "list(enumerate(a))"
   ]
  },
  {
   "cell_type": "code",
   "execution_count": 23,
   "metadata": {},
   "outputs": [
    {
     "name": "stdout",
     "output_type": "stream",
     "text": [
      "<class 'enumerate'>\n"
     ]
    }
   ],
   "source": [
    "print(type(enumerate(a)))"
   ]
  },
  {
   "cell_type": "code",
   "execution_count": 27,
   "metadata": {},
   "outputs": [
    {
     "name": "stdout",
     "output_type": "stream",
     "text": [
      "index is: 0, value is:10\n",
      "index is: 1, value is:20\n",
      "index is: 2, value is:30\n",
      "index is: 3, value is:40\n",
      "index is: 4, value is:50\n"
     ]
    }
   ],
   "source": [
    "for p, q in enumerate(a):\n",
    "    print(f\"index is: {p}, value is:{q}\")"
   ]
  },
  {
   "cell_type": "code",
   "execution_count": 29,
   "metadata": {},
   "outputs": [
    {
     "name": "stdout",
     "output_type": "stream",
     "text": [
      "2\n",
      "4\n",
      "2\n",
      "4\n"
     ]
    }
   ],
   "source": [
    "arr = (1, 2, 5, 4, 2, 3, 4)\n",
    "\n",
    "# print all  even numbers\n",
    "\n",
    "for i in arr:\n",
    "    if i % 2 == 0:\n",
    "        print(i)"
   ]
  },
  {
   "cell_type": "code",
   "execution_count": 43,
   "metadata": {},
   "outputs": [
    {
     "name": "stdout",
     "output_type": "stream",
     "text": [
      "1\n",
      "3\n",
      "5\n"
     ]
    }
   ],
   "source": [
    "arr = (21, 22, 51, 42, 23, 36, 43)\n",
    "\n",
    "# if that is a even no print the index\n",
    "\n",
    "# for i in arr:\n",
    "#     if i % 2 == 0:\n",
    "#         print(i)\n",
    "\n",
    "# for i in range(len(arr)):\n",
    "#     if arr[i] % 2 == 0:\n",
    "#         print(i)\n",
    "\n",
    "for i, v in enumerate(arr): # i = 6,  v = 45\n",
    "    if v % 2 == 0:\n",
    "        print(i)"
   ]
  },
  {
   "cell_type": "code",
   "execution_count": 39,
   "metadata": {},
   "outputs": [
    {
     "data": {
      "text/plain": [
       "True"
      ]
     },
     "execution_count": 39,
     "metadata": {},
     "output_type": "execute_result"
    }
   ],
   "source": [
    "not 0"
   ]
  },
  {
   "cell_type": "code",
   "execution_count": 34,
   "metadata": {},
   "outputs": [
    {
     "data": {
      "text/plain": [
       "1"
      ]
     },
     "execution_count": 34,
     "metadata": {},
     "output_type": "execute_result"
    }
   ],
   "source": [
    "i % 2"
   ]
  },
  {
   "cell_type": "code",
   "execution_count": 51,
   "metadata": {},
   "outputs": [
    {
     "name": "stdout",
     "output_type": "stream",
     "text": [
      "1\n"
     ]
    }
   ],
   "source": [
    "arr = [1, 2, 3, 4, 1]\n",
    "\n",
    "for i in range(len(arr)):\n",
    "    for j in range(i+1, len(arr)):\n",
    "        if arr[i] == arr[j]:\n",
    "            print(arr[i])\n",
    "\n",
    "\n",
    "for i, v in enumerate(arr):\n",
    "    for j, x in enumerate(arr[i+1:]):\n",
    "        if v == x:\n",
    "            print(v)"
   ]
  },
  {
   "cell_type": "code",
   "execution_count": 52,
   "metadata": {},
   "outputs": [
    {
     "name": "stdout",
     "output_type": "stream",
     "text": [
      "0 a\n",
      "1 b\n",
      "2 c\n"
     ]
    }
   ],
   "source": [
    "s = 'abc'\n",
    "\n",
    "for i, v in enumerate(s):\n",
    "    print(i, v)"
   ]
  },
  {
   "cell_type": "code",
   "execution_count": 55,
   "metadata": {},
   "outputs": [
    {
     "data": {
      "text/plain": [
       "[(1, 'a'), (2, 'b'), (3, 'c')]"
      ]
     },
     "execution_count": 55,
     "metadata": {},
     "output_type": "execute_result"
    }
   ],
   "source": [
    "s = 'abc'\n",
    "a = [1, 2, 3]\n",
    "list(zip(a, s))"
   ]
  },
  {
   "cell_type": "code",
   "execution_count": 56,
   "metadata": {},
   "outputs": [
    {
     "data": {
      "text/plain": [
       "{1: 'a', 2: 'b', 3: 'c'}"
      ]
     },
     "execution_count": 56,
     "metadata": {},
     "output_type": "execute_result"
    }
   ],
   "source": [
    "dict([(1, 'a'), (2, 'b'), (3, 'c')])"
   ]
  },
  {
   "cell_type": "code",
   "execution_count": 67,
   "metadata": {},
   "outputs": [],
   "source": [
    "l1 = [1, 2, 3]\n",
    "l2 = (7, 8, 9, 10)\n",
    "l3 = 'abc'"
   ]
  },
  {
   "cell_type": "code",
   "execution_count": 62,
   "metadata": {},
   "outputs": [
    {
     "name": "stdout",
     "output_type": "stream",
     "text": [
      "1 7\n",
      "2 8\n",
      "3 9\n"
     ]
    }
   ],
   "source": [
    "for i, v in zip(l1, l2):\n",
    "    print(i, v)"
   ]
  },
  {
   "cell_type": "code",
   "execution_count": 64,
   "metadata": {},
   "outputs": [
    {
     "data": {
      "text/plain": [
       "[(1, 7), (2, 8), (3, 9)]"
      ]
     },
     "execution_count": 64,
     "metadata": {},
     "output_type": "execute_result"
    }
   ],
   "source": [
    "list(zip(l1, l2))"
   ]
  },
  {
   "cell_type": "code",
   "execution_count": 70,
   "metadata": {},
   "outputs": [
    {
     "name": "stdout",
     "output_type": "stream",
     "text": [
      "(1, 7, 'a')\n",
      "(2, 8, 'b')\n",
      "(3, 9, 'c')\n"
     ]
    }
   ],
   "source": [
    "for x in zip(l1, l2, l3):\n",
    "    print(x)"
   ]
  },
  {
   "cell_type": "code",
   "execution_count": 74,
   "metadata": {},
   "outputs": [],
   "source": [
    "names = ['a', 'b']\n",
    "age = [10, 20]\n",
    "\n",
    "dict(zip(names, age))\n",
    "\n",
    "import pandas as pd\n",
    "\n",
    "df = pd.DataFrame(zip(names, age))"
   ]
  },
  {
   "cell_type": "code",
   "execution_count": 75,
   "metadata": {},
   "outputs": [
    {
     "data": {
      "text/html": [
       "<div>\n",
       "<style scoped>\n",
       "    .dataframe tbody tr th:only-of-type {\n",
       "        vertical-align: middle;\n",
       "    }\n",
       "\n",
       "    .dataframe tbody tr th {\n",
       "        vertical-align: top;\n",
       "    }\n",
       "\n",
       "    .dataframe thead th {\n",
       "        text-align: right;\n",
       "    }\n",
       "</style>\n",
       "<table border=\"1\" class=\"dataframe\">\n",
       "  <thead>\n",
       "    <tr style=\"text-align: right;\">\n",
       "      <th></th>\n",
       "      <th>0</th>\n",
       "      <th>1</th>\n",
       "    </tr>\n",
       "  </thead>\n",
       "  <tbody>\n",
       "    <tr>\n",
       "      <th>0</th>\n",
       "      <td>a</td>\n",
       "      <td>10</td>\n",
       "    </tr>\n",
       "    <tr>\n",
       "      <th>1</th>\n",
       "      <td>b</td>\n",
       "      <td>20</td>\n",
       "    </tr>\n",
       "  </tbody>\n",
       "</table>\n",
       "</div>"
      ],
      "text/plain": [
       "   0   1\n",
       "0  a  10\n",
       "1  b  20"
      ]
     },
     "execution_count": 75,
     "metadata": {},
     "output_type": "execute_result"
    }
   ],
   "source": [
    "df"
   ]
  },
  {
   "cell_type": "code",
   "execution_count": 76,
   "metadata": {},
   "outputs": [],
   "source": [
    "a = [1, 2, 3]\n",
    "b = ['a', '2', 'c']"
   ]
  },
  {
   "cell_type": "code",
   "execution_count": 80,
   "metadata": {},
   "outputs": [
    {
     "name": "stdout",
     "output_type": "stream",
     "text": [
      "2\n"
     ]
    }
   ],
   "source": [
    "\n",
    "for i, j in zip(a, b):\n",
    "    if str(i) == j:\n",
    "        print(i)"
   ]
  },
  {
   "cell_type": "code",
   "execution_count": 11,
   "metadata": {},
   "outputs": [
    {
     "name": "stdout",
     "output_type": "stream",
     "text": [
      "25\n"
     ]
    }
   ],
   "source": [
    "a = int(input())\n",
    "b = int(input())\n",
    "c = int(input())\n",
    "d = int(input())\n",
    "e = int(input())\n",
    "res = a + b + c + d + e\n",
    "print(res)"
   ]
  },
  {
   "cell_type": "code",
   "execution_count": 23,
   "metadata": {},
   "outputs": [
    {
     "name": "stdout",
     "output_type": "stream",
     "text": [
      "0\n",
      "1\n",
      "1\n",
      "2\n",
      "3\n"
     ]
    }
   ],
   "source": [
    "n = int(input('Enter thenumber '))\n",
    "first = 0 \n",
    "second = 1 \n",
    "for i in range(n): \n",
    "    print(first) \n",
    "    temp = first \n",
    "    first = second \n",
    "    second = temp + second\n"
   ]
  },
  {
   "cell_type": "markdown",
   "metadata": {},
   "source": [
    "# start > end -> -ve updation -> start, end - 1, -1\n",
    "# start < end -> +ve updation -> start, end + 1, 1"
   ]
  },
  {
   "cell_type": "code",
   "execution_count": 20,
   "metadata": {},
   "outputs": [
    {
     "name": "stdout",
     "output_type": "stream",
     "text": [
      "120\n",
      "720\n",
      "5040\n"
     ]
    }
   ],
   "source": [
    "n = 5\n",
    "fact = 1\n",
    "\n",
    "for i in range(1, n + 1):  # i = 5 | 4 | 3 } 2 | 1\n",
    "    fact *= i    # 1 * 5 = 5 * 4 = 20 * 3 = 60 *2 = 120 * 1 = 120\n",
    "\n",
    "print(fact)\n",
    "\n",
    "\n",
    "n = int(input())\n",
    "fact = 1\n",
    "\n",
    "for i in range(1, n + 1):\n",
    "    fact *= i\n",
    "\n",
    "print(fact)\n",
    "\n",
    "\n",
    "n = int(input())\n",
    "fact = 1\n",
    "\n",
    "for i in range(1, n + 1):\n",
    "    fact *= i\n",
    "\n",
    "print(fact)"
   ]
  },
  {
   "cell_type": "code",
   "execution_count": 24,
   "metadata": {},
   "outputs": [
    {
     "name": "stdout",
     "output_type": "stream",
     "text": [
      "0\n",
      "1\n",
      "1\n",
      "2\n",
      "3\n"
     ]
    }
   ],
   "source": [
    "# 0 1 1 2 3 5 8 13 21 34 55 .....\n",
    "\n",
    "n = int(input())\n",
    "\n",
    "first = 0\n",
    "second = 1\n",
    "\n",
    "for i in range(n):\n",
    "    print(first)\n",
    "    first, second = second, first + second"
   ]
  },
  {
   "cell_type": "code",
   "execution_count": 32,
   "metadata": {},
   "outputs": [
    {
     "name": "stdout",
     "output_type": "stream",
     "text": [
      "3\n",
      "34\n",
      "377\n"
     ]
    }
   ],
   "source": [
    "# n th fibonacii no.\n",
    "# 0 1 1 2 3 5 8 13 21 34 55 .....\n",
    "n = int(input()) # 5\n",
    "\n",
    "first = 0\n",
    "second = 1\n",
    "\n",
    "res = 0\n",
    "\n",
    "for i in range(n):  # i = 5\n",
    "    res = first # 3\n",
    "    first, second = second, first + second  # first = 5, second = 8\n",
    "\n",
    "print(res)\n",
    "\n",
    "\n",
    "n = int(input()) # 10\n",
    "\n",
    "first = 0\n",
    "second = 1\n",
    "\n",
    "res = 0\n",
    "\n",
    "for i in range(n):  # i = 5\n",
    "    res = first # 3\n",
    "    first, second = second, first + second  # first = 5, second = 8\n",
    "\n",
    "print(res)\n",
    "\n",
    "\n",
    "n = int(input()) # 10\n",
    "\n",
    "first = 0\n",
    "second = 1\n",
    "\n",
    "res = 0\n",
    "\n",
    "for i in range(n):  # i = 5\n",
    "    res = first # 3\n",
    "    first, second = second, first + second  # first = 5, second = 8\n",
    "\n",
    "print(res)"
   ]
  },
  {
   "cell_type": "code",
   "execution_count": 27,
   "metadata": {},
   "outputs": [],
   "source": [
    "a = 5\n",
    "a = 10"
   ]
  },
  {
   "cell_type": "code",
   "execution_count": null,
   "metadata": {},
   "outputs": [],
   "source": [
    "# def func_name(arg1, arg2, ..., argn):\n",
    "#     statement 1\n",
    "#     statement 2\n",
    "#     statement 3\n",
    "#     statement n\n",
    "\n",
    "\n",
    "# func_name(1, 2, ...10)\n"
   ]
  },
  {
   "cell_type": "code",
   "execution_count": 7,
   "metadata": {},
   "outputs": [
    {
     "name": "stdout",
     "output_type": "stream",
     "text": [
      "13\n",
      "1\n",
      "42\n",
      "1.1666666666666667\n",
      "1\n",
      "---------------------\n",
      "14\n",
      "6\n",
      "40\n",
      "2.5\n",
      "2\n",
      "---------------------\n",
      "43\n",
      "37\n",
      "120\n",
      "13.333333333333334\n",
      "13\n"
     ]
    }
   ],
   "source": [
    "n = int(input())\n",
    "m = int(input())\n",
    "\n",
    "print(m + n)\n",
    "print(m -n)\n",
    "print(m*n)\n",
    "print(m/n)\n",
    "print(m // n)\n",
    "\n",
    "print(\"---------------------\")\n",
    "\n",
    "x = 10\n",
    "y = 4\n",
    "print(x + y)\n",
    "print(x - y)\n",
    "print(x * y)\n",
    "print(x / y)\n",
    "print(x // y)\n",
    "\n",
    "print(\"---------------------\")\n",
    "\n",
    "x = 40\n",
    "y = 3\n",
    "print(x + y)\n",
    "print(x - y)\n",
    "print(x * y)\n",
    "print(x / y)\n",
    "print(x // y)"
   ]
  },
  {
   "cell_type": "code",
   "execution_count": 11,
   "metadata": {},
   "outputs": [
    {
     "name": "stdout",
     "output_type": "stream",
     "text": [
      "15\n",
      "5\n",
      "50\n",
      "2\n",
      "15\n",
      "-----------\n",
      "77\n",
      "9\n",
      "1462\n",
      "1\n",
      "77\n",
      "-----------------\n",
      "80\n",
      "-20\n",
      "1500\n",
      "0\n",
      "80\n"
     ]
    }
   ],
   "source": [
    "def add_two_nums(n, m):\n",
    "    print(m + n)\n",
    "    print(m - n)\n",
    "    print(m * n)\n",
    "    print(m // n)\n",
    "    print(m + n)\n",
    "\n",
    "\n",
    "m = 10\n",
    "n = 5\n",
    "add_two_nums(n, m)\n",
    "print('-----------')\n",
    "x = 34\n",
    "y = 43\n",
    "add_two_nums(x, y)\n",
    "\n",
    "print('-----------------')\n",
    "p = 50\n",
    "q = 30\n",
    "add_two_nums(p, q)"
   ]
  },
  {
   "cell_type": "code",
   "execution_count": 42,
   "metadata": {},
   "outputs": [
    {
     "data": {
      "text/plain": [
       "int"
      ]
     },
     "execution_count": 42,
     "metadata": {},
     "output_type": "execute_result"
    }
   ],
   "source": [
    "type(sum)"
   ]
  },
  {
   "cell_type": "code",
   "execution_count": 8,
   "metadata": {},
   "outputs": [
    {
     "name": "stdout",
     "output_type": "stream",
     "text": [
      "0\n",
      "1\n",
      "1\n",
      "2\n",
      "3\n"
     ]
    }
   ],
   "source": [
    "def nth_fib(n):\n",
    "    first = 0\n",
    "    second = 1\n",
    "\n",
    "    res = 0\n",
    "\n",
    "    for i in range(n):  # i = 5\n",
    "        res = first # 3\n",
    "        first, second = second, first + second \n",
    "\n",
    "    print(res)\n",
    "\n",
    "\n",
    "nth_fib(int(input()))\n",
    "nth_fib(int(input()))\n",
    "nth_fib(int(input()))\n",
    "nth_fib(int(input()))\n",
    "nth_fib(int(input()))"
   ]
  },
  {
   "cell_type": "code",
   "execution_count": 7,
   "metadata": {},
   "outputs": [
    {
     "name": "stdout",
     "output_type": "stream",
     "text": [
      "2225387340304\n",
      "2225387340304\n"
     ]
    },
    {
     "ename": "UnboundLocalError",
     "evalue": "local variable 'x' referenced before assignment",
     "output_type": "error",
     "traceback": [
      "\u001b[1;31m---------------------------------------------------------------------------\u001b[0m",
      "\u001b[1;31mUnboundLocalError\u001b[0m                         Traceback (most recent call last)",
      "\u001b[1;32md:\\python\\loop.ipynb Cell 111\u001b[0m in \u001b[0;36m<cell line: 10>\u001b[1;34m()\u001b[0m\n\u001b[0;32m      <a href='vscode-notebook-cell:/d%3A/python/loop.ipynb#Y215sZmlsZQ%3D%3D?line=6'>7</a>\u001b[0m     \u001b[39mprint\u001b[39m(x \u001b[39m==\u001b[39m y)\n\u001b[0;32m      <a href='vscode-notebook-cell:/d%3A/python/loop.ipynb#Y215sZmlsZQ%3D%3D?line=7'>8</a>\u001b[0m     x \u001b[39m=\u001b[39m \u001b[39m10\u001b[39m\n\u001b[1;32m---> <a href='vscode-notebook-cell:/d%3A/python/loop.ipynb#Y215sZmlsZQ%3D%3D?line=9'>10</a>\u001b[0m foo()\n",
      "\u001b[1;32md:\\python\\loop.ipynb Cell 111\u001b[0m in \u001b[0;36mfoo\u001b[1;34m()\u001b[0m\n\u001b[0;32m      <a href='vscode-notebook-cell:/d%3A/python/loop.ipynb#Y215sZmlsZQ%3D%3D?line=4'>5</a>\u001b[0m y \u001b[39m=\u001b[39m \u001b[39m10\u001b[39m\n\u001b[0;32m      <a href='vscode-notebook-cell:/d%3A/python/loop.ipynb#Y215sZmlsZQ%3D%3D?line=5'>6</a>\u001b[0m \u001b[39mprint\u001b[39m(\u001b[39mid\u001b[39m(y))\n\u001b[1;32m----> <a href='vscode-notebook-cell:/d%3A/python/loop.ipynb#Y215sZmlsZQ%3D%3D?line=6'>7</a>\u001b[0m \u001b[39mprint\u001b[39m(x \u001b[39m==\u001b[39m y)\n\u001b[0;32m      <a href='vscode-notebook-cell:/d%3A/python/loop.ipynb#Y215sZmlsZQ%3D%3D?line=7'>8</a>\u001b[0m x \u001b[39m=\u001b[39m \u001b[39m10\u001b[39m\n",
      "\u001b[1;31mUnboundLocalError\u001b[0m: local variable 'x' referenced before assignment"
     ]
    }
   ],
   "source": []
  },
  {
   "cell_type": "code",
   "execution_count": 11,
   "metadata": {},
   "outputs": [
    {
     "name": "stdout",
     "output_type": "stream",
     "text": [
      "message\n",
      "message\n",
      "None\n"
     ]
    }
   ],
   "source": [
    "def display():\n",
    "    print(\"message\")\n",
    "\n",
    "display()\n",
    "x = display()\n",
    "print(x)"
   ]
  },
  {
   "cell_type": "code",
   "execution_count": null,
   "metadata": {},
   "outputs": [],
   "source": [
    "# wap to create a function, inside that function take one user input, print it is a pallindrome number or not\n",
    "\n",
    "n = int(input()) # 123\n",
    "temp = n # 121\n",
    "res = 0\n",
    "\n",
    "while temp > 0: \n",
    "    res = res * 10 + temp % 10\n",
    "    temp = temp // 10  \n",
    "\n",
    "if n == res:\n",
    "    print(True)\n",
    "else:\n",
    "    print(False)"
   ]
  },
  {
   "cell_type": "code",
   "execution_count": 18,
   "metadata": {},
   "outputs": [
    {
     "name": "stdout",
     "output_type": "stream",
     "text": [
      "True\n",
      "None\n"
     ]
    }
   ],
   "source": [
    "def display():\n",
    "    n = int(input()) # 123\n",
    "    temp = n # 121\n",
    "    res = 0\n",
    "\n",
    "    while temp > 0: \n",
    "        res = res * 10 + temp % 10\n",
    "        temp = temp // 10  \n",
    "\n",
    "    if n == res:\n",
    "        print(True)\n",
    "    else:\n",
    "        print(False)\n",
    "\n",
    "print(display())"
   ]
  },
  {
   "cell_type": "code",
   "execution_count": 16,
   "metadata": {},
   "outputs": [
    {
     "data": {
      "text/plain": [
       "0.1"
      ]
     },
     "execution_count": 16,
     "metadata": {},
     "output_type": "execute_result"
    }
   ],
   "source": [
    "# wapt to create a functon, creatwe one list 5 elements and print it"
   ]
  },
  {
   "cell_type": "code",
   "execution_count": 19,
   "metadata": {},
   "outputs": [
    {
     "name": "stdout",
     "output_type": "stream",
     "text": [
      "['1', '2', '3', '4', '5']\n"
     ]
    }
   ],
   "source": [
    "n = 5\n",
    "arr = []\n",
    "\n",
    "for i in range(n):\n",
    "    arr.append(input())\n",
    "\n",
    "print(arr)"
   ]
  },
  {
   "cell_type": "code",
   "execution_count": 22,
   "metadata": {},
   "outputs": [
    {
     "name": "stdout",
     "output_type": "stream",
     "text": [
      "['1', '2', '2', '3', '4']\n",
      "<class 'function'>\n"
     ]
    }
   ],
   "source": [
    "def create_list():\n",
    "    n = 5\n",
    "    arr = []\n",
    "\n",
    "    for i in range(n):\n",
    "        arr.append(input())\n",
    "\n",
    "    print(arr)\n",
    "\n",
    "create_list()\n",
    "print(type(create_list))"
   ]
  },
  {
   "cell_type": "code",
   "execution_count": 23,
   "metadata": {},
   "outputs": [
    {
     "name": "stdout",
     "output_type": "stream",
     "text": [
      "2225443450896\n"
     ]
    }
   ],
   "source": [
    "print(id(create_list))"
   ]
  },
  {
   "cell_type": "code",
   "execution_count": 26,
   "metadata": {},
   "outputs": [
    {
     "name": "stdout",
     "output_type": "stream",
     "text": [
      "<class 'function'>\n"
     ]
    }
   ],
   "source": [
    "temp = create_list\n",
    "print(type(temp))"
   ]
  },
  {
   "cell_type": "code",
   "execution_count": 27,
   "metadata": {},
   "outputs": [
    {
     "name": "stdout",
     "output_type": "stream",
     "text": [
      "['2', '4', '5', '6', '7']\n"
     ]
    }
   ],
   "source": [
    "temp()"
   ]
  },
  {
   "cell_type": "code",
   "execution_count": null,
   "metadata": {},
   "outputs": [],
   "source": []
  }
 ],
 "metadata": {
  "kernelspec": {
   "display_name": "Python 3.10.6 64-bit",
   "language": "python",
   "name": "python3"
  },
  "language_info": {
   "codemirror_mode": {
    "name": "ipython",
    "version": 3
   },
   "file_extension": ".py",
   "mimetype": "text/x-python",
   "name": "python",
   "nbconvert_exporter": "python",
   "pygments_lexer": "ipython3",
   "version": "3.10.6"
  },
  "orig_nbformat": 4,
  "vscode": {
   "interpreter": {
    "hash": "cb746cae21d8eece361e3d69b5b88e7465dccc6b14f8d94d4bf000eb937e2588"
   }
  }
 },
 "nbformat": 4,
 "nbformat_minor": 2
}
